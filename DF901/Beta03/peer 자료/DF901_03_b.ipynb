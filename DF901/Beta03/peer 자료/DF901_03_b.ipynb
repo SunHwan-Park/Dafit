{
 "cells": [
  {
   "cell_type": "code",
   "execution_count": 1,
   "metadata": {},
   "outputs": [],
   "source": [
    "import pandas as pd\n",
    "import re"
   ]
  },
  {
   "cell_type": "code",
   "execution_count": 2,
   "metadata": {},
   "outputs": [],
   "source": [
    "def to_dictionary (text):\n",
    "    ## 영문, 영문 - 영문 으로 이루어진 문자열 색인.\n",
    "    eng_finder = re.compile(\"[a-zA-Z-]+\")\n",
    "    text = eng_finder.findall(text)\n",
    "    \n",
    "    ## 모든 문자소문자화\n",
    "    text_low = []\n",
    "    for i in text:\n",
    "        text_low.append(i.lower())\n",
    "        \n",
    "    text = text_low\n",
    "    \n",
    "    ## 집합 형식으로 바꿔서 겹치는 항목 제거.\n",
    "    text = set(text)\n",
    "    \n",
    "    ## 정렬\n",
    "    text = sorted(text)\n",
    "    \n",
    "    return text"
   ]
  },
  {
   "cell_type": "code",
   "execution_count": 3,
   "metadata": {},
   "outputs": [],
   "source": [
    "text_op = open( 'Beta01_NLP.txt' , 'r' , encoding = 'cp949' )\n",
    "text = text_op.readline()\n",
    "text_op.close()"
   ]
  },
  {
   "cell_type": "code",
   "execution_count": 4,
   "metadata": {},
   "outputs": [],
   "source": [
    "text_dict = to_dictionary(text)"
   ]
  },
  {
   "cell_type": "code",
   "execution_count": 5,
   "metadata": {},
   "outputs": [
    {
     "data": {
      "text/plain": [
       "['a',\n",
       " 'book',\n",
       " 'class',\n",
       " 'd',\n",
       " 'economy',\n",
       " 'flight',\n",
       " 'i',\n",
       " 'like',\n",
       " 'new',\n",
       " 'one-way',\n",
       " 'or',\n",
       " 'please',\n",
       " 'round-trip',\n",
       " 'to',\n",
       " 'which',\n",
       " 'would',\n",
       " 'york',\n",
       " 'you']"
      ]
     },
     "execution_count": 5,
     "metadata": {},
     "output_type": "execute_result"
    }
   ],
   "source": [
    "text_dict"
   ]
  },
  {
   "cell_type": "code",
   "execution_count": 10,
   "metadata": {},
   "outputs": [],
   "source": [
    "text_w = open( 'DF901_03_주멘.txt' , 'w' , encoding = 'UTF-8')\n",
    "for i in text_dict:\n",
    "    text_w.write(i + \",\\n\")\n",
    "text_w.close()"
   ]
  }
 ],
 "metadata": {
  "kernelspec": {
   "display_name": "Python 3",
   "language": "python",
   "name": "python3"
  },
  "language_info": {
   "codemirror_mode": {
    "name": "ipython",
    "version": 3
   },
   "file_extension": ".py",
   "mimetype": "text/x-python",
   "name": "python",
   "nbconvert_exporter": "python",
   "pygments_lexer": "ipython3",
   "version": "3.7.3"
  }
 },
 "nbformat": 4,
 "nbformat_minor": 2
}
