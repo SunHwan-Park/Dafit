{
 "cells": [
  {
   "cell_type": "markdown",
   "metadata": {},
   "source": [
    "## How to remove the symbol?\n",
    "\n",
    "### Code"
   ]
  },
  {
   "cell_type": "code",
   "execution_count": 27,
   "metadata": {},
   "outputs": [
    {
     "name": "stdout",
     "output_type": "stream",
     "text": [
      "[\"i'd\", 'like', 'to', 'book', 'a', 'flight', 'to', 'new', 'york', 'one-way', 'or', 'round-trip', 'round-trip', 'please', 'which', 'class', 'would', 'you', 'like', 'economy', 'please']\n"
     ]
    }
   ],
   "source": [
    "import re\n",
    "f = open(\"Beta01_NLP.txt\",\"r\") # 파일 읽기\n",
    "text = f.read()\n",
    "#print(text)\n",
    "f.close()\n",
    "#print(text)\n",
    "text = text.lower()\n",
    "text = re.sub(pattern='[.?,ㄱ-ㅎ가-힣]', repl='',string=text) # 특수문자 제거 정규표현식\n",
    "text = text.split(' ')\n",
    "text = [x for x in text if x] # 빈값 제거(한글 제거)\n",
    "print(text)"
   ]
  },
  {
   "cell_type": "code",
   "execution_count": 36,
   "metadata": {},
   "outputs": [],
   "source": [
    "text = sorted(text) # 정렬\n",
    "f = open(\"Beta03_NLP_namhyo.txt\",\"w\")\n",
    "for x in text: # 중복값도 적용된다\n",
    "    f.write(x + '\\n')\n",
    "f.close()\n"
   ]
  },
  {
   "cell_type": "code",
   "execution_count": 37,
   "metadata": {},
   "outputs": [
    {
     "name": "stdout",
     "output_type": "stream",
     "text": [
      "a\n",
      "book\n",
      "class\n",
      "economy\n",
      "flight\n",
      "i'd\n",
      "like\n",
      "new\n",
      "one-way\n",
      "or\n",
      "please\n",
      "round-trip\n",
      "to\n",
      "which\n",
      "would\n",
      "york\n",
      "you\n"
     ]
    }
   ],
   "source": [
    "# 만약 중복값을 원하지 않는다면\n",
    "text = list(set(text))\n",
    "text = sorted(text) # 정렬\n",
    "for x in text:\n",
    "    print(x)"
   ]
  },
  {
   "cell_type": "code",
   "execution_count": null,
   "metadata": {},
   "outputs": [],
   "source": []
  },
  {
   "cell_type": "code",
   "execution_count": null,
   "metadata": {},
   "outputs": [],
   "source": []
  }
 ],
 "metadata": {
  "kernelspec": {
   "display_name": "Python 3",
   "language": "python",
   "name": "python3"
  },
  "language_info": {
   "codemirror_mode": {
    "name": "ipython",
    "version": 3
   },
   "file_extension": ".py",
   "mimetype": "text/x-python",
   "name": "python",
   "nbconvert_exporter": "python",
   "pygments_lexer": "ipython3",
   "version": "3.7.3"
  }
 },
 "nbformat": 4,
 "nbformat_minor": 2
}
