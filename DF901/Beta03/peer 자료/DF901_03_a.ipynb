{
 "cells": [
  {
   "cell_type": "code",
   "execution_count": 1,
   "metadata": {},
   "outputs": [],
   "source": [
    "with open('Beta01_NLP.txt', 'r') as f:\n",
    "    content = f.readline()"
   ]
  },
  {
   "cell_type": "code",
   "execution_count": 2,
   "metadata": {},
   "outputs": [
    {
     "data": {
      "text/plain": [
       "\"뉴욕행 비행기를 예약하고 싶어요. I'd like to book a flight to New York. 편도인가요? 왕복인가요? One-way, or round-trip? 왕복입니다. Round-trip please. 좌석 등급은 무엇으로 하시겠어요? Which class would you like? 일반석으로 부탁해요. Economy, please.\""
      ]
     },
     "execution_count": 2,
     "metadata": {},
     "output_type": "execute_result"
    }
   ],
   "source": [
    "content"
   ]
  },
  {
   "cell_type": "code",
   "execution_count": 3,
   "metadata": {},
   "outputs": [],
   "source": [
    "content_lower = content.lower()"
   ]
  },
  {
   "cell_type": "code",
   "execution_count": 4,
   "metadata": {},
   "outputs": [],
   "source": [
    "import re"
   ]
  },
  {
   "cell_type": "code",
   "execution_count": 5,
   "metadata": {},
   "outputs": [],
   "source": [
    "content_en = re.sub('[^a-zA-Z]', ' ', content_lower)"
   ]
  },
  {
   "cell_type": "code",
   "execution_count": 6,
   "metadata": {},
   "outputs": [],
   "source": [
    "content_final = content_en.split()"
   ]
  },
  {
   "cell_type": "code",
   "execution_count": 7,
   "metadata": {},
   "outputs": [],
   "source": [
    "content_final.sort()"
   ]
  },
  {
   "cell_type": "code",
   "execution_count": 8,
   "metadata": {
    "scrolled": true
   },
   "outputs": [
    {
     "data": {
      "text/plain": [
       "['a',\n",
       " 'book',\n",
       " 'class',\n",
       " 'd',\n",
       " 'economy',\n",
       " 'flight',\n",
       " 'i',\n",
       " 'like',\n",
       " 'like',\n",
       " 'new',\n",
       " 'one',\n",
       " 'or',\n",
       " 'please',\n",
       " 'please',\n",
       " 'round',\n",
       " 'round',\n",
       " 'to',\n",
       " 'to',\n",
       " 'trip',\n",
       " 'trip',\n",
       " 'way',\n",
       " 'which',\n",
       " 'would',\n",
       " 'york',\n",
       " 'you']"
      ]
     },
     "execution_count": 8,
     "metadata": {},
     "output_type": "execute_result"
    }
   ],
   "source": [
    "content_final"
   ]
  },
  {
   "cell_type": "code",
   "execution_count": 11,
   "metadata": {},
   "outputs": [],
   "source": [
    "text = ''\n",
    "for k in content_final:\n",
    "    text = text+k+'\\n'"
   ]
  },
  {
   "cell_type": "code",
   "execution_count": 12,
   "metadata": {},
   "outputs": [],
   "source": [
    "with open('Beta01_NLP03_SunHwanPark.txt', 'w') as f1:\n",
    "    f1.write(text)"
   ]
  },
  {
   "cell_type": "code",
   "execution_count": null,
   "metadata": {},
   "outputs": [],
   "source": []
  }
 ],
 "metadata": {
  "kernelspec": {
   "display_name": "Python 3",
   "language": "python",
   "name": "python3"
  },
  "language_info": {
   "codemirror_mode": {
    "name": "ipython",
    "version": 3
   },
   "file_extension": ".py",
   "mimetype": "text/x-python",
   "name": "python",
   "nbconvert_exporter": "python",
   "pygments_lexer": "ipython3",
   "version": "3.7.3"
  }
 },
 "nbformat": 4,
 "nbformat_minor": 2
}
