{
 "cells": [
  {
   "cell_type": "markdown",
   "metadata": {},
   "source": [
    "## How to remove the symbol?\n",
    "\n",
    "### Code"
   ]
  },
  {
   "cell_type": "code",
   "execution_count": 13,
   "metadata": {},
   "outputs": [
    {
     "name": "stdout",
     "output_type": "stream",
     "text": [
      "뉴\n"
     ]
    }
   ],
   "source": [
    "import re\n",
    "import pandas as pd\n",
    "f = open(\"Beta01_NLP.txt\",\"r\") # 파일 읽기\n",
    "text = f.read()\n",
    "#print(text[0])\n",
    "f.close()\n"
   ]
  },
  {
   "cell_type": "code",
   "execution_count": 9,
   "metadata": {},
   "outputs": [
    {
     "name": "stdout",
     "output_type": "stream",
     "text": [
      "    A  B  C  D  E   F  G    H   I   J  ...  Q  R   S  T  U   V    W   X   Y  Z\n",
      "0  에이  비  시  디  이  에프  지  에이치  아이  제이  ...  큐  알  에스  티  유  브이  더블유  엑스  와이  지\n",
      "\n",
      "[1 rows x 26 columns]\n"
     ]
    }
   ],
   "source": []
  },
  {
   "cell_type": "code",
   "execution_count": 40,
   "metadata": {},
   "outputs": [
    {
     "name": "stdout",
     "output_type": "stream",
     "text": [
      "뉴욕행 비행기를 예약하고 싶어요. 아이'디 엘아이케이이 티오 비오오케이 에이 에프엘아이지에이치티 티오 엔이더블유 와이오알케이. 편도인가요? 왕복인가요? 오엔이-더블유에이와이, 오알 알오유엔디-티알아이피? 왕복입니다. 알오유엔디-티알아이피 피엘이에이에스이. 좌석 등급은 무엇으로 하시겠어요? 더블유에이치아이시에이치 시엘에이에스에스 더블유오유엘디 와이오유 엘아이케이이? 일반석으로 부탁해요. 이시오엔오엠와이, 피엘이에이에스이.\n"
     ]
    }
   ],
   "source": [
    "alphabet = {\"A\":\"에이\",\"B\":\"비\",\"C\":\"시\",\"D\":\"디\",\"E\":\"이\",\"F\":\"에프\",\"G\":\"지\",\"H\":\"에이치\",\"I\":\"아이\",\"J\":\"제이\",\"K\":\"케이\",\"L\":\"엘\",\"M\":\"엠\",\"N\":\"엔\",\"O\":\"오\",\"P\":\"피\",\"Q\":\"큐\",\"R\":\"알\",\"S\":\"에스\",\"T\":\"티\",\"U\":\"유\",\"V\":\"브이\",\"W\":\"더블유\",\"X\":\"엑스\",\"Y\":\"와이\",\"Z\":\"지\"}\n",
    "\n",
    "text = text.upper()\n",
    "\n",
    "for i in range(len(text)):\n",
    "    if text[i] in alphabet:\n",
    "        text = text.replace(text[i],alphabet[text[i]])\n",
    "        \n",
    "#print(text)"
   ]
  },
  {
   "cell_type": "code",
   "execution_count": 41,
   "metadata": {},
   "outputs": [],
   "source": [
    "f = open(\"Beta01_NLP02_namhyo.txt\",\"w\")\n",
    "f.write(text)\n",
    "f.close()"
   ]
  },
  {
   "cell_type": "code",
   "execution_count": null,
   "metadata": {},
   "outputs": [],
   "source": []
  }
 ],
 "metadata": {
  "kernelspec": {
   "display_name": "Python 3",
   "language": "python",
   "name": "python3"
  },
  "language_info": {
   "codemirror_mode": {
    "name": "ipython",
    "version": 3
   },
   "file_extension": ".py",
   "mimetype": "text/x-python",
   "name": "python",
   "nbconvert_exporter": "python",
   "pygments_lexer": "ipython3",
   "version": "3.7.3"
  }
 },
 "nbformat": 4,
 "nbformat_minor": 2
}
