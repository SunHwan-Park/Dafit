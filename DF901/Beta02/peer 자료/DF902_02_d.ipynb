{
 "cells": [
  {
   "cell_type": "code",
   "execution_count": 1,
   "metadata": {},
   "outputs": [],
   "source": [
    "import pandas as pd"
   ]
  },
  {
   "cell_type": "code",
   "execution_count": 2,
   "metadata": {},
   "outputs": [],
   "source": [
    "eng_sound = pd.read_excel(\"NLP02_unlock.xlsx\")\n",
    "# 잠겨있는 엑셀파일 잠금해제후 eng_sound에 대입합니다."
   ]
  },
  {
   "cell_type": "code",
   "execution_count": 3,
   "metadata": {},
   "outputs": [
    {
     "data": {
      "text/plain": [
       "\"뉴욕행 비행기를 예약하고 싶어요. I'd like to book a flight to New York. 편도인가요? 왕복인가요? One-way, or round-trip? 왕복입니다. Round-trip please. 좌석 등급은 무엇으로 하시겠어요? Which class would you like? 일반석으로 부탁해요. Economy, please.\""
      ]
     },
     "execution_count": 3,
     "metadata": {},
     "output_type": "execute_result"
    }
   ],
   "source": [
    "text_open = open( \"Beta01_NLP.txt\" , 'r' , encoding = 'cp949')\n",
    "text = text_open.readline()\n",
    "text_open.close()\n",
    "text\n",
    "# 텍스트 파일을 불러와서 저장하고 확인해 봅니다. "
   ]
  },
  {
   "cell_type": "code",
   "execution_count": 4,
   "metadata": {},
   "outputs": [],
   "source": [
    "## \n",
    "# 1. eng_sound 딕셔너리화. \n",
    "        # - 컬럼명 리스트화 , 인덱스 0 의 값들을 리스트화 할 것입니다.\n",
    "        # - 두개의 값을 zip 함수로 묶은다음 dictionary 화 시킵니다.\n",
    "        \n",
    "# 2. text 와 eng_sound 데이터를 받아서 처리할 함수 생성.\n",
    "        # text 를 받아서 모든 영문자를 대문자로 만들고\n",
    "        # for 문을 통해서 딕셔니리의 key 값과 일치하면, 그에 맞는 value값을 반환합니다.\n",
    "        # 최종 결과는 변환된리스트를 반환 합니다. \n",
    "        \n",
    "\n",
    "\n",
    "def chang_kor_alphabat (text , eng_index ):\n",
    "    ## text == 문자열 매개변수.\n",
    "    ## eng_index == 알파벳발음을 한국어 표기법으로 작성한 dataframe\n",
    "    eng = list(eng_index.columns)\n",
    "    kor = list(eng_index.values[0])\n",
    "    \n",
    "    ko_eng = dict(zip( eng , kor ))\n",
    "    print( ko_eng )\n",
    "    \n",
    "    text = text.upper()\n",
    "    print(text)\n",
    "    \n",
    "    for i in ko_eng:\n",
    "        if i in text:\n",
    "            text = text.replace( i , ko_eng[i] )\n",
    "        else :\n",
    "            None\n",
    "            \n",
    "    return text"
   ]
  },
  {
   "cell_type": "code",
   "execution_count": 5,
   "metadata": {},
   "outputs": [
    {
     "name": "stdout",
     "output_type": "stream",
     "text": [
      "{'A': '에이', 'B': '비', 'C': '시', 'D': '디', 'E': '이', 'F': '에프', 'G': '지', 'H': '에이치', 'I': '아이', 'J': '제이', 'K': '케이', 'L': '엘', 'M': '엠', 'N': '엔', 'O': '오', 'P': '피', 'Q': '큐', 'R': '알', 'S': '에스', 'T': '티', 'U': '유', 'V': '브이', 'W': '더블유', 'X': '엑스', 'Y': '와이', 'Z': '지'}\n",
      "뉴욕행 비행기를 예약하고 싶어요. I'D LIKE TO BOOK A FLIGHT TO NEW YORK. 편도인가요? 왕복인가요? ONE-WAY, OR ROUND-TRIP? 왕복입니다. ROUND-TRIP PLEASE. 좌석 등급은 무엇으로 하시겠어요? WHICH CLASS WOULD YOU LIKE? 일반석으로 부탁해요. ECONOMY, PLEASE.\n"
     ]
    },
    {
     "data": {
      "text/plain": [
       "\"뉴욕행 비행기를 예약하고 싶어요. 아이'디 엘아이케이이 티오 비오오케이 에이 에프엘아이지에이치티 티오 엔이더블유 와이오알케이. 편도인가요? 왕복인가요? 오엔이-더블유에이와이, 오알 알오유엔디-티알아이피? 왕복입니다. 알오유엔디-티알아이피 피엘이에이에스이. 좌석 등급은 무엇으로 하시겠어요? 더블유에이치아이시에이치 시엘에이에스에스 더블유오유엘디 와이오유 엘아이케이이? 일반석으로 부탁해요. 이시오엔오엠와이, 피엘이에이에스이.\""
      ]
     },
     "execution_count": 5,
     "metadata": {},
     "output_type": "execute_result"
    }
   ],
   "source": [
    "chang_kor_alphabat( text , eng_sound )"
   ]
  },
  {
   "cell_type": "code",
   "execution_count": null,
   "metadata": {},
   "outputs": [],
   "source": [
    "f = open( 'DF902_02_주멘.txt' , mode = 'wt' , encoding = \"UTF-8\")\n",
    "f.write( chang_kor_alphabat( text , eng_sound) )\n",
    "f.close()"
   ]
  }
 ],
 "metadata": {
  "kernelspec": {
   "display_name": "Python 3",
   "language": "python",
   "name": "python3"
  },
  "language_info": {
   "codemirror_mode": {
    "name": "ipython",
    "version": 3
   },
   "file_extension": ".py",
   "mimetype": "text/x-python",
   "name": "python",
   "nbconvert_exporter": "python",
   "pygments_lexer": "ipython3",
   "version": "3.7.3"
  }
 },
 "nbformat": 4,
 "nbformat_minor": 2
}
