{
 "cells": [
  {
   "cell_type": "markdown",
   "metadata": {},
   "source": [
    "## How to remove the symbol?\n",
    "\n",
    "### Code"
   ]
  },
  {
   "cell_type": "code",
   "execution_count": 7,
   "metadata": {},
   "outputs": [],
   "source": [
    "import re\n",
    "import pandas as pd\n",
    "f = open(\"Beta01_NLP.txt\",\"r\") # 파일 읽기\n",
    "text = f.read()\n",
    "#print(text[0])\n",
    "f.close()\n"
   ]
  },
  {
   "cell_type": "code",
   "execution_count": null,
   "metadata": {},
   "outputs": [],
   "source": []
  },
  {
   "cell_type": "code",
   "execution_count": 8,
   "metadata": {},
   "outputs": [],
   "source": [
    "alphabet = {\"A\":\"에이\",\"B\":\"비\",\"C\":\"시\",\"D\":\"디\",\"E\":\"이\",\"F\":\"에프\",\"G\":\"지\",\"H\":\"에이치\",\"I\":\"아이\",\"J\":\"제이\",\"K\":\"케이\",\"L\":\"엘\",\"M\":\"엠\",\"N\":\"엔\",\"O\":\"오\",\"P\":\"피\",\"Q\":\"큐\",\"R\":\"알\",\"S\":\"에스\",\"T\":\"티\",\"U\":\"유\",\"V\":\"브이\",\"W\":\"더블유\",\"X\":\"엑스\",\"Y\":\"와이\",\"Z\":\"지\"}\n",
    "\n",
    "text = text.upper()\n",
    "\n",
    "for i in range(len(text)):\n",
    "    if text[i] in alphabet:\n",
    "        text = text.replace(text[i],alphabet[text[i]])\n",
    "        \n",
    "#print(text)"
   ]
  },
  {
   "cell_type": "code",
   "execution_count": 9,
   "metadata": {},
   "outputs": [],
   "source": [
    "f = open(\"Beta01_NLP02_namhyo.txt\",\"w\")\n",
    "f.write(text)\n",
    "f.close()"
   ]
  },
  {
   "cell_type": "code",
   "execution_count": 10,
   "metadata": {
    "scrolled": true
   },
   "outputs": [],
   "source": [
    "import sys\n",
    "import win32com.client\n",
    "xlApp = win32com.client.Dispatch(\"Excel.Application\")\n",
    "#print \"Excel library version:\", xlApp.Version\n",
    "filename, password = 'C:/Users/ddtthh/Downloads/NLP02_Sound.xlsx','da'\n",
    "xlwb = xlApp.Workbooks.Open(filename, Password=password)\n",
    "# xlwb = xlApp.Workbooks.Open(filename)\n",
    "xlws = xlwb.Sheets(1) # counts from 1, not from 0\n",
    "#print xlws.Name\n",
    "#print xlws.Cells(1, 1) # that's A1\n",
    "# Get the content in the rectangular selection region\n",
    "# content is a tuple of tuples\n",
    "content = xlws.Range(xlws.Cells(1, 1), xlws.Cells(2, 26)).Value \n",
    "\n",
    "# Transfer content to pandas dataframe\n"
   ]
  },
  {
   "cell_type": "code",
   "execution_count": 11,
   "metadata": {},
   "outputs": [
    {
     "data": {
      "text/html": [
       "<div>\n",
       "<style scoped>\n",
       "    .dataframe tbody tr th:only-of-type {\n",
       "        vertical-align: middle;\n",
       "    }\n",
       "\n",
       "    .dataframe tbody tr th {\n",
       "        vertical-align: top;\n",
       "    }\n",
       "\n",
       "    .dataframe thead th {\n",
       "        text-align: right;\n",
       "    }\n",
       "</style>\n",
       "<table border=\"1\" class=\"dataframe\">\n",
       "  <thead>\n",
       "    <tr style=\"text-align: right;\">\n",
       "      <th></th>\n",
       "      <th>A</th>\n",
       "      <th>B</th>\n",
       "      <th>C</th>\n",
       "      <th>D</th>\n",
       "      <th>E</th>\n",
       "      <th>F</th>\n",
       "      <th>G</th>\n",
       "      <th>H</th>\n",
       "      <th>I</th>\n",
       "      <th>J</th>\n",
       "      <th>...</th>\n",
       "      <th>Q</th>\n",
       "      <th>R</th>\n",
       "      <th>S</th>\n",
       "      <th>T</th>\n",
       "      <th>U</th>\n",
       "      <th>V</th>\n",
       "      <th>W</th>\n",
       "      <th>X</th>\n",
       "      <th>Y</th>\n",
       "      <th>Z</th>\n",
       "    </tr>\n",
       "  </thead>\n",
       "  <tbody>\n",
       "    <tr>\n",
       "      <th>0</th>\n",
       "      <td>A</td>\n",
       "      <td>B</td>\n",
       "      <td>C</td>\n",
       "      <td>D</td>\n",
       "      <td>E</td>\n",
       "      <td>F</td>\n",
       "      <td>G</td>\n",
       "      <td>H</td>\n",
       "      <td>I</td>\n",
       "      <td>J</td>\n",
       "      <td>...</td>\n",
       "      <td>Q</td>\n",
       "      <td>R</td>\n",
       "      <td>S</td>\n",
       "      <td>T</td>\n",
       "      <td>U</td>\n",
       "      <td>V</td>\n",
       "      <td>W</td>\n",
       "      <td>X</td>\n",
       "      <td>Y</td>\n",
       "      <td>Z</td>\n",
       "    </tr>\n",
       "    <tr>\n",
       "      <th>1</th>\n",
       "      <td>에이</td>\n",
       "      <td>비</td>\n",
       "      <td>시</td>\n",
       "      <td>디</td>\n",
       "      <td>이</td>\n",
       "      <td>에프</td>\n",
       "      <td>지</td>\n",
       "      <td>에이치</td>\n",
       "      <td>아이</td>\n",
       "      <td>제이</td>\n",
       "      <td>...</td>\n",
       "      <td>큐</td>\n",
       "      <td>알</td>\n",
       "      <td>에스</td>\n",
       "      <td>티</td>\n",
       "      <td>유</td>\n",
       "      <td>브이</td>\n",
       "      <td>더블유</td>\n",
       "      <td>엑스</td>\n",
       "      <td>와이</td>\n",
       "      <td>지</td>\n",
       "    </tr>\n",
       "  </tbody>\n",
       "</table>\n",
       "<p>2 rows × 26 columns</p>\n",
       "</div>"
      ],
      "text/plain": [
       "    A  B  C  D  E   F  G    H   I   J  ...  Q  R   S  T  U   V    W   X   Y  Z\n",
       "0   A  B  C  D  E   F  G    H   I   J  ...  Q  R   S  T  U   V    W   X   Y  Z\n",
       "1  에이  비  시  디  이  에프  지  에이치  아이  제이  ...  큐  알  에스  티  유  브이  더블유  엑스  와이  지\n",
       "\n",
       "[2 rows x 26 columns]"
      ]
     },
     "execution_count": 11,
     "metadata": {},
     "output_type": "execute_result"
    }
   ],
   "source": [
    "content = list(content)\n",
    "df = pd.DataFrame(content,columns=content[0])\n",
    "df"
   ]
  },
  {
   "cell_type": "code",
   "execution_count": 12,
   "metadata": {},
   "outputs": [
    {
     "name": "stdout",
     "output_type": "stream",
     "text": [
      "뉴욕행 비행기를 예약하고 싶어요. 아이'디 엘아이케이이 티오 비오오케이 에이 에프엘아이지에이치티 티오 엔이더블유 와이오알케이. 편도인가요? 왕복인가요? 오엔이-더블유에이와이, 오알 알오유엔디-티알아이피? 왕복입니다. 알오유엔디-티알아이피 피엘이에이에스이. 좌석 등급은 무엇으로 하시겠어요? 더블유에이치아이시에이치 시엘에이에스에스 더블유오유엘디 와이오유 엘아이케이이? 일반석으로 부탁해요. 이시오엔오엠와이, 피엘이에이에스이.\n"
     ]
    }
   ],
   "source": [
    "text = text.upper()\n",
    "\n",
    "for i in range(len(text)):\n",
    "    if text[i] in df.values[0]:\n",
    "        text = text.replace(text[i],df[text[i]][1])\n",
    "        \n",
    "print(text)"
   ]
  },
  {
   "cell_type": "code",
   "execution_count": null,
   "metadata": {},
   "outputs": [],
   "source": [
    "f = open(\"Beta01_NLP02_namhyo.txt\",\"w\")\n",
    "f.write(text)\n",
    "f.close()"
   ]
  },
  {
   "cell_type": "code",
   "execution_count": null,
   "metadata": {},
   "outputs": [],
   "source": []
  },
  {
   "cell_type": "code",
   "execution_count": null,
   "metadata": {},
   "outputs": [],
   "source": []
  }
 ],
 "metadata": {
  "kernelspec": {
   "display_name": "Python 3",
   "language": "python",
   "name": "python3"
  },
  "language_info": {
   "codemirror_mode": {
    "name": "ipython",
    "version": 3
   },
   "file_extension": ".py",
   "mimetype": "text/x-python",
   "name": "python",
   "nbconvert_exporter": "python",
   "pygments_lexer": "ipython3",
   "version": "3.7.3"
  }
 },
 "nbformat": 4,
 "nbformat_minor": 2
}
