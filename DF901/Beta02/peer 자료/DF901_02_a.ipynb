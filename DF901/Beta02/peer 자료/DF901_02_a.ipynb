{
 "cells": [
  {
   "cell_type": "code",
   "execution_count": 11,
   "metadata": {},
   "outputs": [
    {
     "name": "stdout",
     "output_type": "stream",
     "text": [
      "Beta01_NLP.txt\n",
      "뉴욕행 비행기를 예약하고 싶어요. 아이'디 엘아이케이이 티오 비오오케이 에이 에프엘아이지에이치티 티오 엔이더블유 와이오알케이. 편도인가요? 왕복인가요? 오엔이-더블유에이와이, 오알 알오유엔디-티알아이피? 왕복입니다. 알오유엔디-티알아이피 피엘이에이에스이. 좌석 등급은 무엇으로 하시겠어요? 더블유에이치아이시에이치 시엘에이에스에스 더블유오유엘디 와이오유 엘아이케이이? 일반석으로 부탁해요. 이시오엔오엠와이, 피엘이에이에스이.\n"
     ]
    }
   ],
   "source": [
    "import pandas as pd\n",
    "\n",
    "with open(input(), 'r') as f:\n",
    "    content = f.readline()\n",
    "    content_upper = content.upper()\n",
    "    \n",
    "    sound_table = pd.read_excel('NLP02_Sound.xlsx')\n",
    "    \n",
    "    for cha in sound_table.columns:\n",
    "        content_upper = content_upper.replace(cha, sound_table.loc[0, cha])\n",
    "\n",
    "    print(content_upper)\n",
    "    with open('Beta01_NLP02_name.txt', 'w') as f1:\n",
    "        f1.write(content_upper)"
   ]
  },
  {
   "cell_type": "code",
   "execution_count": null,
   "metadata": {},
   "outputs": [],
   "source": []
  }
 ],
 "metadata": {
  "kernelspec": {
   "display_name": "Python 3",
   "language": "python",
   "name": "python3"
  },
  "language_info": {
   "codemirror_mode": {
    "name": "ipython",
    "version": 3
   },
   "file_extension": ".py",
   "mimetype": "text/x-python",
   "name": "python",
   "nbconvert_exporter": "python",
   "pygments_lexer": "ipython3",
   "version": "3.7.3"
  }
 },
 "nbformat": 4,
 "nbformat_minor": 2
}
