{
 "cells": [
  {
   "cell_type": "code",
   "execution_count": 6,
   "metadata": {},
   "outputs": [
    {
     "name": "stdout",
     "output_type": "stream",
     "text": [
      "---raw_data---\n",
      "뉴욕행 비행기를 예약하고 싶어요. I'd like to book a flight to New York. 편도인가요? 왕복인가요? One-way, or round-trip? 왕복입니다. Round-trip please. 좌석 등급은 무엇으로 하시겠어요? Which class would you like? 일반석으로 부탁해요. Economy, please.\n"
     ]
    },
    {
     "data": {
      "text/html": [
       "<div>\n",
       "<style scoped>\n",
       "    .dataframe tbody tr th:only-of-type {\n",
       "        vertical-align: middle;\n",
       "    }\n",
       "\n",
       "    .dataframe tbody tr th {\n",
       "        vertical-align: top;\n",
       "    }\n",
       "\n",
       "    .dataframe thead th {\n",
       "        text-align: right;\n",
       "    }\n",
       "</style>\n",
       "<table border=\"1\" class=\"dataframe\">\n",
       "  <thead>\n",
       "    <tr style=\"text-align: right;\">\n",
       "      <th></th>\n",
       "      <th>A</th>\n",
       "      <th>B</th>\n",
       "      <th>C</th>\n",
       "      <th>D</th>\n",
       "      <th>E</th>\n",
       "      <th>F</th>\n",
       "      <th>G</th>\n",
       "      <th>H</th>\n",
       "      <th>I</th>\n",
       "      <th>J</th>\n",
       "      <th>...</th>\n",
       "      <th>Q</th>\n",
       "      <th>R</th>\n",
       "      <th>S</th>\n",
       "      <th>T</th>\n",
       "      <th>U</th>\n",
       "      <th>V</th>\n",
       "      <th>W</th>\n",
       "      <th>X</th>\n",
       "      <th>Y</th>\n",
       "      <th>Z</th>\n",
       "    </tr>\n",
       "  </thead>\n",
       "  <tbody>\n",
       "    <tr>\n",
       "      <th>0</th>\n",
       "      <td>에이</td>\n",
       "      <td>비</td>\n",
       "      <td>시</td>\n",
       "      <td>디</td>\n",
       "      <td>이</td>\n",
       "      <td>에프</td>\n",
       "      <td>지</td>\n",
       "      <td>에이치</td>\n",
       "      <td>아이</td>\n",
       "      <td>제이</td>\n",
       "      <td>...</td>\n",
       "      <td>큐</td>\n",
       "      <td>알</td>\n",
       "      <td>에스</td>\n",
       "      <td>티</td>\n",
       "      <td>유</td>\n",
       "      <td>브이</td>\n",
       "      <td>더블유</td>\n",
       "      <td>엑스</td>\n",
       "      <td>와이</td>\n",
       "      <td>지</td>\n",
       "    </tr>\n",
       "  </tbody>\n",
       "</table>\n",
       "<p>1 rows × 26 columns</p>\n",
       "</div>"
      ],
      "text/plain": [
       "    A  B  C  D  E   F  G    H   I   J  ...  Q  R   S  T  U   V    W   X   Y  Z\n",
       "0  에이  비  시  디  이  에프  지  에이치  아이  제이  ...  큐  알  에스  티  유  브이  더블유  엑스  와이  지\n",
       "\n",
       "[1 rows x 26 columns]"
      ]
     },
     "metadata": {},
     "output_type": "display_data"
    },
    {
     "name": "stdout",
     "output_type": "stream",
     "text": [
      "---new_content---\n",
      "뉴욕행 비행기를 예약하고 싶어요. 아이'디 엘아이케이이 티오 비오오케이 에이 에프엘아이지에이치티 티오 엔이더블유 와이오알케이. 편도인가요? 왕복인가요? 오엔이-더블유에이와이, 오알 알오유엔디-티알아이피? 왕복입니다. 알오유엔디-티알아이피 피엘이에이에스이. 좌석 등급은 무엇으로 하시겠어요? 더블유에이치아이시에이치 시엘에이에스에스 더블유오유엘디 와이오유 엘아이케이이? 일반석으로 부탁해요. 이시오엔오엠와이, 피엘이에이에스이.\n"
     ]
    }
   ],
   "source": [
    "import pandas as pd\n",
    "\n",
    "with open('Beta01_NLP.txt', 'r') as f:\n",
    "    content = f.readline()\n",
    "    print('---raw_data---\\n'+content)\n",
    "    new_content = content.upper() # 영문을 대문자로\n",
    "    \n",
    "    sound_table = pd.read_excel('NLP02_Sound.xlsx') # 영-한 변환시 참조\n",
    "    display(sound_table)\n",
    "    \n",
    "    for cha in sound_table.columns:\n",
    "        new_content = new_content.replace(cha, sound_table.loc[0, cha])\n",
    "    print('---new_content---\\n'+new_content)\n",
    "    \n",
    "    with open('Beta01_NLP02_name.txt', 'w') as f1:\n",
    "        f1.write(new_content)"
   ]
  }
 ],
 "metadata": {
  "kernelspec": {
   "display_name": "Python 3",
   "language": "python",
   "name": "python3"
  },
  "language_info": {
   "codemirror_mode": {
    "name": "ipython",
    "version": 3
   },
   "file_extension": ".py",
   "mimetype": "text/x-python",
   "name": "python",
   "nbconvert_exporter": "python",
   "pygments_lexer": "ipython3",
   "version": "3.7.3"
  }
 },
 "nbformat": 4,
 "nbformat_minor": 2
}
