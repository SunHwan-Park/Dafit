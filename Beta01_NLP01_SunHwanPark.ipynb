{
 "cells": [
  {
   "cell_type": "code",
   "execution_count": 4,
   "metadata": {
    "scrolled": true
   },
   "outputs": [
    {
     "name": "stdout",
     "output_type": "stream",
     "text": [
      "---raw_data---\n",
      "뉴욕행 비행기를 예약하고 싶어요. I'd like to book a flight to New York. 편도인가요? 왕복인가요? One-way, or round-trip? 왕복입니다. Round-trip please. 좌석 등급은 무엇으로 하시겠어요? Which class would you like? 일반석으로 부탁해요. Economy, please.\n",
      "\n",
      "---cleaned_data---\n",
      "뉴욕행 비행기를 예약하고 싶어요 Id like to book a flight to New York 편도인가요 왕복인가요 Oneway or roundtrip 왕복입니다 Roundtrip please 좌석 등급은 무엇으로 하시겠어요 Which class would you like 일반석으로 부탁해요 Economy please\n"
     ]
    }
   ],
   "source": [
    "import re\n",
    "\n",
    "with open('Beta01_NLP.txt', 'r') as f:\n",
    "    content = f.read()\n",
    "    print('---raw_data---\\n'+content+'\\n')\n",
    "    cleaned_content = re.sub(r'[^\\w\\d\\s]','',content) \n",
    "    # word/digit/space가 아닌 것들, 즉 특수 기호 지우기!\n",
    "    print('---cleaned_data---\\n'+cleaned_content)\n",
    "    \n",
    "    with open('Beta01_NLP01_name.txt', 'w') as f1:\n",
    "        f1.write(cleaned_content)"
   ]
  }
 ],
 "metadata": {
  "kernelspec": {
   "display_name": "Python 3",
   "language": "python",
   "name": "python3"
  },
  "language_info": {
   "codemirror_mode": {
    "name": "ipython",
    "version": 3
   },
   "file_extension": ".py",
   "mimetype": "text/x-python",
   "name": "python",
   "nbconvert_exporter": "python",
   "pygments_lexer": "ipython3",
   "version": "3.7.3"
  }
 },
 "nbformat": 4,
 "nbformat_minor": 2
}
