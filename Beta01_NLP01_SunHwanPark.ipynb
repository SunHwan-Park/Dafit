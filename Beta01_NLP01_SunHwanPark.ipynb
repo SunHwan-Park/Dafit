{
 "cells": [
  {
   "cell_type": "code",
   "execution_count": 42,
   "metadata": {},
   "outputs": [
    {
     "name": "stdout",
     "output_type": "stream",
     "text": [
      "Beta01_NLP.txt\n"
     ]
    }
   ],
   "source": [
    "import re\n",
    "\n",
    "with open(input(), 'r') as f:\n",
    "    content = f.read()\n",
    "    cleaned_content = re.sub(r'[^\\w\\d\\s]','',content)\n",
    "    with open('Beta01_NLP01_name.txt', 'w') as f1:\n",
    "        f1.write(cleaned_content)"
   ]
  },
  {
   "cell_type": "code",
   "execution_count": null,
   "metadata": {},
   "outputs": [],
   "source": []
  }
 ],
 "metadata": {
  "kernelspec": {
   "display_name": "Python 3",
   "language": "python",
   "name": "python3"
  },
  "language_info": {
   "codemirror_mode": {
    "name": "ipython",
    "version": 3
   },
   "file_extension": ".py",
   "mimetype": "text/x-python",
   "name": "python",
   "nbconvert_exporter": "python",
   "pygments_lexer": "ipython3",
   "version": "3.7.3"
  }
 },
 "nbformat": 4,
 "nbformat_minor": 2
}
