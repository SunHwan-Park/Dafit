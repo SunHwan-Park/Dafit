{
 "cells": [
  {
   "cell_type": "markdown",
   "metadata": {},
   "source": [
    "# DF902_SunHwanPark"
   ]
  },
  {
   "cell_type": "markdown",
   "metadata": {},
   "source": [
    "# 01"
   ]
  },
  {
   "cell_type": "code",
   "execution_count": 1,
   "metadata": {},
   "outputs": [],
   "source": [
    "#1. Dense 레이어\n",
    "#- 인공신경망 모형에 입력과 출력이 모두 연결된 은닉층(들)과, 출력층을 생성한다.(add 함수로 모델에 추가)\n",
    "#\t* 주요 파라미터\n",
    "#\t- units: 해당 층에 배치할 노드 수\n",
    "#\t- input_dim: 입력 특성의 수, 즉 입력 노드의 개수이다.(최초 은닉층 외에는 기재 X)\n",
    "#\t- kernel_initializer: 가중치들의 초기화, 설정 방법.\n",
    "#\t- activation: 활성화 함수.\n",
    "\n",
    "#2. Flatten 레이어\n",
    "#- 인공신경망 모형에 다차원 데이터를 1차원으로 변환해주는 층을 추가한다.('완전 연결'된 결합 은닉층으로 출력하는 역할)\n",
    "\n",
    "#3. Conv2D\n",
    "#- 인공신경망 모형에 합성곱층을 생성한다.(데이터의 특성 정보를 추출·축소하는 역할)\n",
    "#\t* 주요 파라미터\n",
    "#\t- filters: 필터(커널)의 개수.\n",
    "#\t- kernel_size: 필터(커널)의 크기.\n",
    "#\t- strides: 스트라이드(필터가 이동하는 간격) 값.\n",
    "#\t- padding: 패딩 적용 방법.(\"Same\" -> 제로 패딩)\n",
    "#\t- activation: 활성화 함수.\n",
    "#\t- input_shape: 입력 특성 형태.(최초 은닉층 외에는 기재 X)\n",
    "\n",
    "#4. MaxPooling2D\n",
    "#- 인공신경망 모형에 풀링층(출력의 크기를 줄이는 역할)을 생성한다.(최대 풀링 방식)\n",
    "#- pool_size: 적용할 풀링 크기."
   ]
  },
  {
   "cell_type": "markdown",
   "metadata": {},
   "source": [
    "# 02"
   ]
  },
  {
   "cell_type": "code",
   "execution_count": 2,
   "metadata": {},
   "outputs": [
    {
     "name": "stderr",
     "output_type": "stream",
     "text": [
      "Using TensorFlow backend.\n"
     ]
    }
   ],
   "source": [
    "import numpy as np\n",
    "from keras.models import Sequential\n",
    "from keras.layers import Dense\n",
    "from keras.layers import Dropout\n",
    "from keras.layers.convolutional import Conv2D\n",
    "from keras.layers.convolutional import MaxPooling2D\n",
    "from keras.layers import Flatten\n",
    "from keras.preprocessing.image import ImageDataGenerator"
   ]
  },
  {
   "cell_type": "code",
   "execution_count": 3,
   "metadata": {},
   "outputs": [],
   "source": [
    "np.random.seed(3)"
   ]
  },
  {
   "cell_type": "code",
   "execution_count": 4,
   "metadata": {},
   "outputs": [],
   "source": [
    "train_datagen = ImageDataGenerator(rescale=1./255)"
   ]
  },
  {
   "cell_type": "code",
   "execution_count": 5,
   "metadata": {
    "scrolled": true
   },
   "outputs": [
    {
     "name": "stdout",
     "output_type": "stream",
     "text": [
      "Found 10233 images belonging to 3 classes.\n"
     ]
    }
   ],
   "source": [
    "train_generator_rgb = train_datagen.flow_from_directory(\n",
    "    'C:\\\\Users\\\\PARK SUNHWAN\\\\Desktop\\\\DS\\\\DF902\\\\DF902_Data\\\\DF902_Data_Galaxy_Resize\\\\train_galaxy',\n",
    "    target_size=(50, 50),\n",
    "    batch_size=27,\n",
    "    class_mode='categorical')"
   ]
  },
  {
   "cell_type": "code",
   "execution_count": 6,
   "metadata": {},
   "outputs": [
    {
     "name": "stdout",
     "output_type": "stream",
     "text": [
      "Found 10233 images belonging to 3 classes.\n"
     ]
    }
   ],
   "source": [
    "train_generator_gray = train_datagen.flow_from_directory(\n",
    "    'C:\\\\Users\\\\PARK SUNHWAN\\\\Desktop\\\\DS\\\\DF902\\\\DF902_Data\\\\DF902_Data_Galaxy_Resize\\\\train_galaxy',\n",
    "    target_size=(50, 50),\n",
    "    batch_size=27,\n",
    "    color_mode='grayscale',\n",
    "    class_mode='categorical')"
   ]
  },
  {
   "cell_type": "code",
   "execution_count": 7,
   "metadata": {},
   "outputs": [],
   "source": [
    "val_datagen = ImageDataGenerator(rescale=1./255)"
   ]
  },
  {
   "cell_type": "code",
   "execution_count": 8,
   "metadata": {},
   "outputs": [
    {
     "name": "stdout",
     "output_type": "stream",
     "text": [
      "Found 600 images belonging to 3 classes.\n"
     ]
    }
   ],
   "source": [
    "val_generator_rgb = val_datagen.flow_from_directory(\n",
    "    'C:\\\\Users\\\\PARK SUNHWAN\\\\Desktop\\\\DS\\\\DF902\\\\DF902_Data\\\\DF902_Data_Galaxy_Resize\\\\val_galaxy',\n",
    "    target_size=(50, 50),\n",
    "    batch_size=3,\n",
    "    class_mode='categorical')"
   ]
  },
  {
   "cell_type": "code",
   "execution_count": 9,
   "metadata": {},
   "outputs": [
    {
     "name": "stdout",
     "output_type": "stream",
     "text": [
      "Found 600 images belonging to 3 classes.\n"
     ]
    }
   ],
   "source": [
    "val_generator_gray = val_datagen.flow_from_directory(\n",
    "    'C:\\\\Users\\\\PARK SUNHWAN\\\\Desktop\\\\DS\\\\DF902\\\\DF902_Data\\\\DF902_Data_Galaxy_Resize\\\\val_galaxy',\n",
    "    target_size=(50, 50),\n",
    "    batch_size=3,\n",
    "    color_mode='grayscale',\n",
    "    class_mode='categorical')"
   ]
  },
  {
   "cell_type": "code",
   "execution_count": 10,
   "metadata": {},
   "outputs": [],
   "source": [
    "test_datagen = ImageDataGenerator(rescale=1./255)"
   ]
  },
  {
   "cell_type": "code",
   "execution_count": 11,
   "metadata": {},
   "outputs": [
    {
     "name": "stdout",
     "output_type": "stream",
     "text": [
      "Found 600 images belonging to 3 classes.\n"
     ]
    }
   ],
   "source": [
    "test_generator_rgb = test_datagen.flow_from_directory(\n",
    "    'C:\\\\Users\\\\PARK SUNHWAN\\\\Desktop\\\\DS\\\\DF902\\\\DF902_Data\\\\DF902_Data_Galaxy_Resize\\\\test_galaxy',\n",
    "    target_size=(50, 50),\n",
    "    batch_size=1,\n",
    "    class_mode='categorical')"
   ]
  },
  {
   "cell_type": "code",
   "execution_count": 12,
   "metadata": {
    "scrolled": true
   },
   "outputs": [
    {
     "name": "stdout",
     "output_type": "stream",
     "text": [
      "Found 600 images belonging to 3 classes.\n"
     ]
    }
   ],
   "source": [
    "test_generator_gray = test_datagen.flow_from_directory(\n",
    "    'C:\\\\Users\\\\PARK SUNHWAN\\\\Desktop\\\\DS\\\\DF902\\\\DF902_Data\\\\DF902_Data_Galaxy_Resize\\\\test_galaxy',\n",
    "    target_size=(50, 50),\n",
    "    batch_size=1,\n",
    "    color_mode='grayscale',\n",
    "    class_mode='categorical')"
   ]
  },
  {
   "cell_type": "code",
   "execution_count": 39,
   "metadata": {},
   "outputs": [
    {
     "name": "stdout",
     "output_type": "stream",
     "text": [
      "Found 200 images belonging to 3 classes.\n"
     ]
    }
   ],
   "source": [
    "test_generator_rgb_edge = test_datagen.flow_from_directory(\n",
    "    'C:\\\\Users\\\\PARK SUNHWAN\\\\Desktop\\\\DS\\\\DF902\\\\DF902_Data\\\\DF902_Data_Galaxy_Resize\\\\test_galaxy\\\\edge',\n",
    "    target_size=(50, 50),\n",
    "    batch_size=1,\n",
    "    class_mode='categorical')"
   ]
  },
  {
   "cell_type": "code",
   "execution_count": 40,
   "metadata": {},
   "outputs": [
    {
     "name": "stdout",
     "output_type": "stream",
     "text": [
      "Found 200 images belonging to 3 classes.\n"
     ]
    }
   ],
   "source": [
    "test_generator_rgb_smooth = test_datagen.flow_from_directory(\n",
    "    'C:\\\\Users\\\\PARK SUNHWAN\\\\Desktop\\\\DS\\\\DF902\\\\DF902_Data\\\\DF902_Data_Galaxy_Resize\\\\test_galaxy\\\\smooth',\n",
    "    target_size=(50, 50),\n",
    "    batch_size=1,\n",
    "    class_mode='categorical')"
   ]
  },
  {
   "cell_type": "code",
   "execution_count": 41,
   "metadata": {},
   "outputs": [
    {
     "name": "stdout",
     "output_type": "stream",
     "text": [
      "Found 200 images belonging to 3 classes.\n"
     ]
    }
   ],
   "source": [
    "test_generator_rgb_spiral = test_datagen.flow_from_directory(\n",
    "    'C:\\\\Users\\\\PARK SUNHWAN\\\\Desktop\\\\DS\\\\DF902\\\\DF902_Data\\\\DF902_Data_Galaxy_Resize\\\\test_galaxy\\\\spiral',\n",
    "    target_size=(50, 50),\n",
    "    batch_size=1,\n",
    "    class_mode='categorical')"
   ]
  },
  {
   "cell_type": "code",
   "execution_count": 42,
   "metadata": {},
   "outputs": [
    {
     "name": "stdout",
     "output_type": "stream",
     "text": [
      "Found 200 images belonging to 3 classes.\n"
     ]
    }
   ],
   "source": [
    "test_generator_gray_edge = test_datagen.flow_from_directory(\n",
    "    'C:\\\\Users\\\\PARK SUNHWAN\\\\Desktop\\\\DS\\\\DF902\\\\DF902_Data\\\\DF902_Data_Galaxy_Resize\\\\test_galaxy\\\\edge',\n",
    "    target_size=(50, 50),\n",
    "    batch_size=1,\n",
    "    color_mode='grayscale',\n",
    "    class_mode='categorical')"
   ]
  },
  {
   "cell_type": "code",
   "execution_count": 43,
   "metadata": {},
   "outputs": [
    {
     "name": "stdout",
     "output_type": "stream",
     "text": [
      "Found 200 images belonging to 3 classes.\n"
     ]
    }
   ],
   "source": [
    "test_generator_gray_smooth = test_datagen.flow_from_directory(\n",
    "    'C:\\\\Users\\\\PARK SUNHWAN\\\\Desktop\\\\DS\\\\DF902\\\\DF902_Data\\\\DF902_Data_Galaxy_Resize\\\\test_galaxy\\\\smooth',\n",
    "    target_size=(50, 50),\n",
    "    batch_size=1,\n",
    "    color_mode='grayscale',\n",
    "    class_mode='categorical')"
   ]
  },
  {
   "cell_type": "code",
   "execution_count": 44,
   "metadata": {},
   "outputs": [
    {
     "name": "stdout",
     "output_type": "stream",
     "text": [
      "Found 200 images belonging to 3 classes.\n"
     ]
    }
   ],
   "source": [
    "test_generator_gray_spiral = test_datagen.flow_from_directory(\n",
    "    'C:\\\\Users\\\\PARK SUNHWAN\\\\Desktop\\\\DS\\\\DF902\\\\DF902_Data\\\\DF902_Data_Galaxy_Resize\\\\test_galaxy\\\\spiral',\n",
    "    target_size=(50, 50),\n",
    "    batch_size=1,\n",
    "    color_mode='grayscale',\n",
    "    class_mode='categorical')"
   ]
  },
  {
   "cell_type": "code",
   "execution_count": 13,
   "metadata": {},
   "outputs": [],
   "source": [
    "# A = flow_from_directory\n",
    "# B = target_size\n",
    "# C = batch_size\n",
    "# D = class_mode"
   ]
  },
  {
   "cell_type": "markdown",
   "metadata": {},
   "source": [
    "# 03"
   ]
  },
  {
   "cell_type": "code",
   "execution_count": 15,
   "metadata": {
    "scrolled": true
   },
   "outputs": [],
   "source": [
    "model_rgb = Sequential()\n",
    "\n",
    "model_rgb.add(Conv2D(filters=32, kernel_size=(3, 3), activation='relu',\\\n",
    "                 input_shape=(50, 50, 3)))\n",
    "model_rgb.add(MaxPooling2D(pool_size=(2, 2)))\n",
    "model_rgb.add(Conv2D(filters=64, kernel_size=(3, 3), activation='relu'))\n",
    "#model_rgb.add(MaxPooling2D(pool_size=(2, 2)))\n",
    "\n",
    "model_rgb.add(Flatten())\n",
    "\n",
    "model_rgb.add(Dense(units=128, activation='relu'))\n",
    "model_rgb.add(Dropout(0.2))\n",
    "model_rgb.add(Dense(units=3, activation='softmax'))"
   ]
  },
  {
   "cell_type": "code",
   "execution_count": 16,
   "metadata": {},
   "outputs": [],
   "source": [
    "model_gray = Sequential()\n",
    "\n",
    "model_gray.add(Conv2D(filters=32, kernel_size=(3, 3), activation='relu',\\\n",
    "                 input_shape=(50, 50, 1)))\n",
    "model_gray.add(MaxPooling2D(pool_size=(2, 2)))\n",
    "model_gray.add(Conv2D(filters=64, kernel_size=(3, 3), activation='relu'))\n",
    "#model_gray.add(MaxPooling2D(pool_size=(2, 2)))\n",
    "\n",
    "model_gray.add(Flatten())\n",
    "\n",
    "model_gray.add(Dense(units=128, activation='relu'))\n",
    "model_gray.add(Dropout(0.2))\n",
    "model_gray.add(Dense(units=3, activation='softmax'))"
   ]
  },
  {
   "cell_type": "markdown",
   "metadata": {},
   "source": [
    "# 04"
   ]
  },
  {
   "cell_type": "code",
   "execution_count": 17,
   "metadata": {},
   "outputs": [],
   "source": [
    "# 1. Relu 활성함수\n",
    "# - Rectified Linear Unit\n",
    "# - 입력값 < 0이면 0, 입력값 > 0이면 입력값을 그대로(linear) 출력.\n",
    "# - 기존 활성함수로 많이 사용되던 sigmoid가 가진 문제 Gradient Vanishing을 해결하며 등장한 활성함수.\n",
    "#     *Gradient Vanishing: 뉴럴 네트워크에서, 신경망이 깊어질수록 학습이 어려워지는 문제가 있어, 이를 해결하기 위해 전체 레이어를 한 번 계산한 후, 그 값을 역으로 다시 계산하는 Back Propagation을 사용한다.\n",
    "#                          그런데 sigmoid 함수를 사용할 경우, 레이어가 깊어질수록 Back Propagation이 제대로 작동하지 않는 현상(값을 뒤에서 앞으로 전달할 때 희석이 되는 현상)이 발생했고, 이 현상을 Gradient Vanishing 이라고 한다.\n",
    "# - 2가지 이상의 레이블 분류하는 경우 주로 사용!(sigmoid는 Gradient Vanishing 때문에 잘 사용 X)\n",
    "# 뉴럴 네트워크의 은닉층 활성화 함수로 주로 사용.\n",
    "\n",
    "# 2. softmax 활성함수\n",
    "# - sigmoid(or Relu) 함수가 이산 분류(결과값에 따라 참 또는 거짓을 나타내는) 함수라면, softmax 함수는 여러 레이블 분류에 대한 확률 값을 출력할 수 있는 함수이다. 분류의 수 n에 대해, P(1) + P(2) + ... + P(n) = 1을 가지는 Pn값을 출력한다.\n",
    "# - 3가지 이상의 레이블 분류하는 경우 주로 사용!\n",
    "# - 뉴럴 네트워크 가장 마지막 부분에 주로 사용!(결과를 확률값을로 해석하기 위해)"
   ]
  },
  {
   "cell_type": "markdown",
   "metadata": {},
   "source": [
    "# 05"
   ]
  },
  {
   "cell_type": "code",
   "execution_count": 19,
   "metadata": {},
   "outputs": [],
   "source": [
    "model_rgb.compile(loss = 'categorical_crossentropy', optimizer = 'adam', metrics = ['accuracy'])\n",
    "model_gray.compile(loss = 'categorical_crossentropy', optimizer = 'adam', metrics = ['accuracy'])\n",
    "\n",
    "# 1. loss\n",
    "# - 현재 모델의 가중치 세트를 평가하는 데 사용하는 손실 함수(cost function).\n",
    "# - 현재 3가지 이상의 레이블을 분류하는 다중 클래스 문제이므로 'categorical_crossentrpy' 사용.\n",
    "\n",
    "# 2. optimizer\n",
    "# - 모델의 최적의 가중치(weight parameter)를 탐색하는 데 사용되는 최적화 알고리즘.\n",
    "# - 최적을 값을 찾아가는 데 '방향성', '스탭사이즈' 모두를 고려하는 효율적인 Gradient Descent Optimizer 'adam' 사용."
   ]
  },
  {
   "cell_type": "markdown",
   "metadata": {},
   "source": [
    "# 06"
   ]
  },
  {
   "cell_type": "code",
   "execution_count": 20,
   "metadata": {
    "scrolled": true
   },
   "outputs": [
    {
     "name": "stderr",
     "output_type": "stream",
     "text": [
      "W1020 19:14:00.845369 31500 deprecation.py:323] From C:\\ProgramData\\Anaconda3\\lib\\site-packages\\tensorflow\\python\\ops\\math_grad.py:1250: add_dispatch_support.<locals>.wrapper (from tensorflow.python.ops.array_ops) is deprecated and will be removed in a future version.\n",
      "Instructions for updating:\n",
      "Use tf.where in 2.0, which has the same broadcast rule as np.where\n"
     ]
    },
    {
     "name": "stdout",
     "output_type": "stream",
     "text": [
      "Epoch 1/5\n",
      "379/379 [==============================] - 64s 168ms/step - loss: 0.6698 - acc: 0.7241 - val_loss: 0.5754 - val_acc: 0.7800\n",
      "Epoch 2/5\n",
      "379/379 [==============================] - 60s 157ms/step - loss: 0.5320 - acc: 0.7876 - val_loss: 0.5489 - val_acc: 0.7833\n",
      "Epoch 3/5\n",
      "379/379 [==============================] - 61s 160ms/step - loss: 0.4674 - acc: 0.8163 - val_loss: 0.5023 - val_acc: 0.8067\n",
      "Epoch 4/5\n",
      "379/379 [==============================] - 60s 157ms/step - loss: 0.4188 - acc: 0.8347 - val_loss: 0.4856 - val_acc: 0.8000\n",
      "Epoch 5/5\n",
      "379/379 [==============================] - 66s 175ms/step - loss: 0.3711 - acc: 0.8530 - val_loss: 0.4754 - val_acc: 0.8183\n"
     ]
    }
   ],
   "source": [
    "hist_rgb = model_rgb.fit_generator(train_generator_rgb, steps_per_epoch=379, epochs=5, validation_data=val_generator_rgb, validation_steps=200)"
   ]
  },
  {
   "cell_type": "code",
   "execution_count": 22,
   "metadata": {
    "scrolled": true
   },
   "outputs": [
    {
     "name": "stdout",
     "output_type": "stream",
     "text": [
      "Epoch 1/5\n",
      "379/379 [==============================] - 90s 239ms/step - loss: 0.7051 - acc: 0.6934 - val_loss: 0.6933 - val_acc: 0.7133\n",
      "Epoch 2/5\n",
      "379/379 [==============================] - 69s 182ms/step - loss: 0.5753 - acc: 0.7656 - val_loss: 0.5598 - val_acc: 0.7633\n",
      "Epoch 3/5\n",
      "379/379 [==============================] - 61s 161ms/step - loss: 0.4714 - acc: 0.8098 - val_loss: 0.4856 - val_acc: 0.8217\n",
      "Epoch 5/5\n",
      "379/379 [==============================] - 58s 152ms/step - loss: 0.4201 - acc: 0.8332 - val_loss: 0.5121 - val_acc: 0.8150\n"
     ]
    }
   ],
   "source": [
    "hist_gray = model_gray.fit_generator(train_generator_gray, steps_per_epoch=379, epochs=5, validation_data=val_generator_gray, validation_steps=200)"
   ]
  },
  {
   "cell_type": "code",
   "execution_count": 55,
   "metadata": {
    "scrolled": true
   },
   "outputs": [
    {
     "name": "stdout",
     "output_type": "stream",
     "text": [
      "--Evaluate--\n",
      "rgb\n",
      "edge acc: 84.00%\n",
      "smooth acc: 80.50%\n",
      "spiral acc: 79.50%\n",
      "------------\n",
      "gray\n",
      "edge acc: 82.00%\n",
      "smooth acc: 81.50%\n",
      "spiral acc: 82.50%\n"
     ]
    }
   ],
   "source": [
    "print(\"--Evaluate--\")\n",
    "print(\"rgb\")\n",
    "scores_rgb_edge = model_rgb.evaluate_generator(test_generator_rgb_edge, steps=200)\n",
    "print(\"edge \"+\"%s: %.2f%%\" %(model_rgb.metrics_names[1], scores_rgb_edge[1]*100))\n",
    "scores_rgb_smooth = model_rgb.evaluate_generator(test_generator_rgb_smooth, steps=200)\n",
    "print(\"smooth \"+\"%s: %.2f%%\" %(model_rgb.metrics_names[1], scores_rgb_smooth[1]*100))\n",
    "scores_rgb_spiral = model_rgb.evaluate_generator(test_generator_rgb_spiral, steps=200)\n",
    "print(\"spiral \"+\"%s: %.2f%%\" %(model_rgb.metrics_names[1], scores_rgb_spiral[1]*100))\n",
    "\n",
    "print(\"------------\")\n",
    "print(\"gray\")\n",
    "scores_gray_edge = model_gray.evaluate_generator(test_generator_gray_edge, steps=200)\n",
    "print(\"edge \"+\"%s: %.2f%%\" %(model_gray.metrics_names[1], scores_gray_edge[1]*100))\n",
    "scores_gray_smooth = model_gray.evaluate_generator(test_generator_gray_smooth, steps=200)\n",
    "print(\"smooth \"+\"%s: %.2f%%\" %(model_gray.metrics_names[1], scores_gray_smooth[1]*100))\n",
    "scores_gray_spiral = model_gray.evaluate_generator(test_generator_gray_spiral, steps=200)\n",
    "print(\"spiral \"+\"%s: %.2f%%\" %(model_gray.metrics_names[1], scores_gray_spiral[1]*100))"
   ]
  },
  {
   "cell_type": "code",
   "execution_count": 54,
   "metadata": {},
   "outputs": [],
   "source": [
    "# A: fit_generator\n",
    "# B: 9(# of traning data / batch size => 10,233 / 1137)\n",
    "    # * 트레이닝 데이터 셋 크기에 비해 기존 배치 사이즈(3)가 너무 작아, steps 수가 지나치게 커짐 => 시간 너무 오래 걸림, overfitting 문제 확인 => 배치 사이즈 수정(3 -> 1137)\n",
    "# C: 200(# of validation data / batch size => 600 / 3)\n",
    "# D: evaluate_generator\n",
    "# E: 200(# of test data / batch size => 600 / 3)"
   ]
  },
  {
   "cell_type": "markdown",
   "metadata": {},
   "source": [
    "# 07"
   ]
  },
  {
   "cell_type": "code",
   "execution_count": 25,
   "metadata": {},
   "outputs": [],
   "source": [
    "# 은하를 Edge / Smooth / Spiral 세 종류로 분류하는 것은, 오로지 각 은하의 '형태'를 기준으로 한다.\n",
    "# 따라서, 은하 분류 모델을 학습시킬 때 은하 사진의 RGB data를 사용할 필요가 없다.(Grayscale data 사용!)\n",
    "# input data의 불필요한 feature를 줄이면서, over fitting 문제를 어느 정도 예방할 수 있기 때문에, \n",
    "# 같은 조건일 때 Grayscale 활용한 모델이 더 정확도가 높을 것이다.\n",
    "\n",
    "# 개념적으로는 이렇게 생각해봤는데...\n",
    "# RGB data 사용한 모델과 Grayscale data 사용한 모델의 정확도가 크게 차이가 나질 않아서 맞는 건지는 잘 모르겠습니다 ㅠ_ㅠ\n",
    "\n",
    "# 다만 over fitting 문제를 해결하기 위해 epochs을 적정 수준으로 낮추고, Dropout layer을 추가했습니다."
   ]
  },
  {
   "cell_type": "code",
   "execution_count": 26,
   "metadata": {},
   "outputs": [],
   "source": [
    "# +++\n",
    "# 같은 조건일 때, RGB data 사용 모델과 Grayscale data 사용 모델 간 정확도(val_acc)가 유의미한 차이를 보이는 것 같지 않습니다...\n",
    "# 아래 그래프만 보면 RGB 모델의 정확도가 좀 더 높아보이지만, 이것도 돌릴 때마다 값이 달라져서 유의미한 것 같진 않습니다.\n",
    "\n",
    "# 모델 세팅 설정을 잘못하고 있는 건지는 모르겠지만...\n",
    "# 결과가 이렇게 나오니 RGB냐 Grayscale이냐가 크리티컬한 변수인가...싶은 생각이 드네요. 어렵네요 ㅠ_ㅠ"
   ]
  },
  {
   "cell_type": "code",
   "execution_count": 27,
   "metadata": {
    "scrolled": true
   },
   "outputs": [
    {
     "name": "stderr",
     "output_type": "stream",
     "text": [
      "W1020 19:28:41.037335 31500 legend.py:1289] No handles with labels found to put in legend.\n"
     ]
    },
    {
     "data": {
      "image/png": "[encoded data removed]",
      "text/plain": [
       "<Figure size 432x288 with 2 Axes>"
      ]
     },
     "metadata": {
      "needs_background": "light"
     },
     "output_type": "display_data"
    }
   ],
   "source": [
    "%matplotlib inline\n",
    "import matplotlib.pyplot as plt\n",
    "\n",
    "fig, loss_ax = plt.subplots()\n",
    "\n",
    "acc_ax = loss_ax.twinx()\n",
    "\n",
    "#loss_ax.plot(hist_rgb.history['loss'], 'g', linestyle = '--', label='train loss(rgb)')\n",
    "#loss_ax.plot(hist_rgb.history['val_loss'], 'g', label='val loss(rgb)')\n",
    "#loss_ax.plot(hist_gray.history['loss'], 'y', linestyle = '--', label='train loss(gray)')\n",
    "#loss_ax.plot(hist_gray.history['val_loss'], 'y', label='val loss(gray)')\n",
    "\n",
    "acc_ax.plot(hist_rgb.history['acc'], 'b', linestyle = '--', label='train acc(rgb)')\n",
    "acc_ax.plot(hist_rgb.history['val_acc'], 'b', label='val acc(rgb)')\n",
    "acc_ax.plot(hist_gray.history['acc'], 'r', linestyle = '--', label='train acc(gray)')\n",
    "acc_ax.plot(hist_gray.history['val_acc'], 'r', label='val acc(gray)')\n",
    "\n",
    "loss_ax.set_xlabel('epoch')\n",
    "loss_ax.set_ylabel('loss')\n",
    "acc_ax.set_ylabel('accuray')\n",
    "\n",
    "loss_ax.legend(loc='upper left')\n",
    "acc_ax.legend(loc='lower left')\n",
    "\n",
    "plt.show()"
   ]
  },
  {
   "cell_type": "code",
   "execution_count": 28,
   "metadata": {},
   "outputs": [
    {
     "name": "stderr",
     "output_type": "stream",
     "text": [
      "W1020 19:28:41.359472 31500 legend.py:1289] No handles with labels found to put in legend.\n"
     ]
    },
    {
     "data": {
      "image/png": "[encoded data removed]",
      "text/plain": [
       "<Figure size 432x288 with 2 Axes>"
      ]
     },
     "metadata": {
      "needs_background": "light"
     },
     "output_type": "display_data"
    }
   ],
   "source": [
    "%matplotlib inline\n",
    "import matplotlib.pyplot as plt\n",
    "\n",
    "fig, loss_ax = plt.subplots()\n",
    "\n",
    "acc_ax = loss_ax.twinx()\n",
    "\n",
    "loss_ax.plot(hist_rgb.history['loss'], 'g', linestyle = '--', label='train loss(rgb)')\n",
    "loss_ax.plot(hist_rgb.history['val_loss'], 'g', label='val loss(rgb)')\n",
    "loss_ax.plot(hist_gray.history['loss'], 'orange', linestyle = '--', label='train loss(gray)')\n",
    "loss_ax.plot(hist_gray.history['val_loss'], 'orange', label='val loss(gray)')\n",
    "\n",
    "#acc_ax.plot(hist_rgb.history['acc'], 'b', linestyle = '--', label='train acc(rgb)')\n",
    "#acc_ax.plot(hist_rgb.history['val_acc'], 'b', label='val acc(rgb)')\n",
    "#acc_ax.plot(hist_gray.history['acc'], 'r', linestyle = '--', label='train acc(gray)')\n",
    "#acc_ax.plot(hist_gray.history['val_acc'], 'r', label='val acc(gray)')\n",
    "\n",
    "loss_ax.set_xlabel('epoch')\n",
    "loss_ax.set_ylabel('loss')\n",
    "acc_ax.set_ylabel('accuray')\n",
    "\n",
    "loss_ax.legend(loc='upper left')\n",
    "acc_ax.legend(loc='lower left')\n",
    "\n",
    "plt.show()"
   ]
  },
  {
   "cell_type": "code",
   "execution_count": null,
   "metadata": {},
   "outputs": [],
   "source": []
  },
  {
   "cell_type": "code",
   "execution_count": null,
   "metadata": {},
   "outputs": [],
   "source": []
  }
 ],
 "metadata": {
  "kernelspec": {
   "display_name": "Python 3",
   "language": "python",
   "name": "python3"
  },
  "language_info": {
   "codemirror_mode": {
    "name": "ipython",
    "version": 3
   },
   "file_extension": ".py",
   "mimetype": "text/x-python",
   "name": "python",
   "nbconvert_exporter": "python",
   "pygments_lexer": "ipython3",
   "version": "3.7.3"
  }
 },
 "nbformat": 4,
 "nbformat_minor": 2
}
