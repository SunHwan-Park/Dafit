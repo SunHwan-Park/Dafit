{
 "cells": [
  {
   "cell_type": "markdown",
   "metadata": {},
   "source": [
    "# DF902_SunHwanPark"
   ]
  },
  {
   "cell_type": "markdown",
   "metadata": {},
   "source": [
    "# 01"
   ]
  },
  {
   "cell_type": "code",
   "execution_count": 1,
   "metadata": {},
   "outputs": [],
   "source": [
    "#1. Dense 레이어\n",
    "#- 인공신경망 모형에 입력과 출력이 모두 연결된 은닉층(들)과, 출력층을 생성한다.(add 함수로 모델에 추가)\n",
    "#\t* 주요 파라미터\n",
    "#\t- units: 해당 층에 배치할 노드 수\n",
    "#\t- input_dim: 입력 특성의 수, 즉 입력 노드의 개수이다.(최초 은닉층 외에는 기재 X)\n",
    "#\t- kernel_initializer: 가중치들의 초기화, 설정 방법.\n",
    "#\t- activation: 활성화 함수.\n",
    "\n",
    "#2. Flatten 레이어\n",
    "#- 인공신경망 모형에 다차원 데이터를 1차원으로 변환해주는 층을 추가한다.('완전 연결'된 결합 은닉층으로 출력하는 역할)\n",
    "\n",
    "#3. Conv2D\n",
    "#- 인공신경망 모형에 합성곱층을 생성한다.(데이터의 특성 정보를 추출·축소하는 역할)\n",
    "#\t* 주요 파라미터\n",
    "#\t- filters: 필터(커널)의 개수.\n",
    "#\t- kernel_size: 필터(커널)의 크기.\n",
    "#\t- strides: 스트라이드(필터가 이동하는 간격) 값.\n",
    "#\t- padding: 패딩 적용 방법.(\"Same\" -> 제로 패딩)\n",
    "#\t- activation: 활성화 함수.\n",
    "#\t- input_shape: 입력 특성 형태.(최초 은닉층 외에는 기재 X)\n",
    "\n",
    "#4. MaxPooling2D\n",
    "#- 인공신경망 모형에 풀링층(출력의 크기를 줄이는 역할)을 생성한다.(최대 풀링 방식)\n",
    "#- pool_size: 적용할 풀링 크기."
   ]
  },
  {
   "cell_type": "markdown",
   "metadata": {},
   "source": [
    "# 02"
   ]
  },
  {
   "cell_type": "code",
   "execution_count": 2,
   "metadata": {},
   "outputs": [
    {
     "name": "stderr",
     "output_type": "stream",
     "text": [
      "Using TensorFlow backend.\n"
     ]
    }
   ],
   "source": [
    "import numpy as np\n",
    "from keras.models import Sequential\n",
    "from keras.layers import Dense\n",
    "from keras.layers import Dropout\n",
    "from keras.layers.convolutional import Conv2D\n",
    "from keras.layers.convolutional import MaxPooling2D\n",
    "from keras.layers import Flatten\n",
    "from keras.preprocessing.image import ImageDataGenerator"
   ]
  },
  {
   "cell_type": "code",
   "execution_count": 3,
   "metadata": {},
   "outputs": [],
   "source": [
    "np.random.seed(3)"
   ]
  },
  {
   "cell_type": "code",
   "execution_count": 4,
   "metadata": {},
   "outputs": [],
   "source": [
    "train_datagen = ImageDataGenerator(rescale=1./255)"
   ]
  },
  {
   "cell_type": "code",
   "execution_count": 5,
   "metadata": {
    "scrolled": true
   },
   "outputs": [
    {
     "name": "stdout",
     "output_type": "stream",
     "text": [
      "Found 10233 images belonging to 3 classes.\n"
     ]
    }
   ],
   "source": [
    "train_generator_rgb = train_datagen.flow_from_directory(\n",
    "    'C:\\\\Users\\\\PARK SUNHWAN\\\\Desktop\\\\DS\\\\DF902\\\\DF902_Data\\\\DF902_Data_Galaxy_Resize\\\\train_galaxy',\n",
    "    target_size=(50, 50),\n",
    "    batch_size=27,\n",
    "    class_mode='categorical')"
   ]
  },
  {
   "cell_type": "code",
   "execution_count": 6,
   "metadata": {},
   "outputs": [
    {
     "name": "stdout",
     "output_type": "stream",
     "text": [
      "Found 10233 images belonging to 3 classes.\n"
     ]
    }
   ],
   "source": [
    "train_generator_gray = train_datagen.flow_from_directory(\n",
    "    'C:\\\\Users\\\\PARK SUNHWAN\\\\Desktop\\\\DS\\\\DF902\\\\DF902_Data\\\\DF902_Data_Galaxy_Resize\\\\train_galaxy',\n",
    "    target_size=(50, 50),\n",
    "    batch_size=27,\n",
    "    color_mode='grayscale',\n",
    "    class_mode='categorical')"
   ]
  },
  {
   "cell_type": "code",
   "execution_count": 7,
   "metadata": {},
   "outputs": [],
   "source": [
    "val_datagen = ImageDataGenerator(rescale=1./255)"
   ]
  },
  {
   "cell_type": "code",
   "execution_count": 8,
   "metadata": {},
   "outputs": [
    {
     "name": "stdout",
     "output_type": "stream",
     "text": [
      "Found 600 images belonging to 3 classes.\n"
     ]
    }
   ],
   "source": [
    "val_generator_rgb = val_datagen.flow_from_directory(\n",
    "    'C:\\\\Users\\\\PARK SUNHWAN\\\\Desktop\\\\DS\\\\DF902\\\\DF902_Data\\\\DF902_Data_Galaxy_Resize\\\\val_galaxy',\n",
    "    target_size=(50, 50),\n",
    "    batch_size=3,\n",
    "    class_mode='categorical')"
   ]
  },
  {
   "cell_type": "code",
   "execution_count": 9,
   "metadata": {},
   "outputs": [
    {
     "name": "stdout",
     "output_type": "stream",
     "text": [
      "Found 600 images belonging to 3 classes.\n"
     ]
    }
   ],
   "source": [
    "val_generator_gray = val_datagen.flow_from_directory(\n",
    "    'C:\\\\Users\\\\PARK SUNHWAN\\\\Desktop\\\\DS\\\\DF902\\\\DF902_Data\\\\DF902_Data_Galaxy_Resize\\\\val_galaxy',\n",
    "    target_size=(50, 50),\n",
    "    batch_size=3,\n",
    "    color_mode='grayscale',\n",
    "    class_mode='categorical')"
   ]
  },
  {
   "cell_type": "code",
   "execution_count": 39,
   "metadata": {},
   "outputs": [],
   "source": [
    "test_datagen = ImageDataGenerator(rescale=1./255)"
   ]
  },
  {
   "cell_type": "code",
   "execution_count": 40,
   "metadata": {},
   "outputs": [
    {
     "name": "stdout",
     "output_type": "stream",
     "text": [
      "Found 600 images belonging to 3 classes.\n"
     ]
    }
   ],
   "source": [
    "test_generator_rgb = test_datagen.flow_from_directory(\n",
    "    'C:\\\\Users\\\\PARK SUNHWAN\\\\Desktop\\\\DS\\\\DF902\\\\DF902_Data\\\\DF902_Data_Galaxy_Resize\\\\test_galaxy',\n",
    "    target_size=(50, 50),\n",
    "    batch_size=1,\n",
    "    class_mode='categorical')"
   ]
  },
  {
   "cell_type": "code",
   "execution_count": 41,
   "metadata": {
    "scrolled": true
   },
   "outputs": [
    {
     "name": "stdout",
     "output_type": "stream",
     "text": [
      "Found 600 images belonging to 3 classes.\n"
     ]
    }
   ],
   "source": [
    "test_generator_gray = test_datagen.flow_from_directory(\n",
    "    'C:\\\\Users\\\\PARK SUNHWAN\\\\Desktop\\\\DS\\\\DF902\\\\DF902_Data\\\\DF902_Data_Galaxy_Resize\\\\test_galaxy',\n",
    "    target_size=(50, 50),\n",
    "    batch_size=1,\n",
    "    color_mode='grayscale',\n",
    "    class_mode='categorical')"
   ]
  },
  {
   "cell_type": "code",
   "execution_count": 13,
   "metadata": {},
   "outputs": [],
   "source": [
    "# A = flow_from_directory\n",
    "# B = target_size\n",
    "# C = batch_size\n",
    "# D = class_mode"
   ]
  },
  {
   "cell_type": "markdown",
   "metadata": {},
   "source": [
    "# 03"
   ]
  },
  {
   "cell_type": "code",
   "execution_count": 67,
   "metadata": {
    "scrolled": true
   },
   "outputs": [
    {
     "ename": "ValueError",
     "evalue": "The `kernel_size` argument must be a tuple of 2 integers. Received: (3, 3, 3)",
     "output_type": "error",
     "traceback": [
      "\u001b[1;31m---------------------------------------------------------------------------\u001b[0m",
      "\u001b[1;31mValueError\u001b[0m                                Traceback (most recent call last)",
      "\u001b[1;32m<ipython-input-67-b198f9c846c0>\u001b[0m in \u001b[0;36m<module>\u001b[1;34m\u001b[0m\n\u001b[0;32m      2\u001b[0m \u001b[1;33m\u001b[0m\u001b[0m\n\u001b[0;32m      3\u001b[0m model_rgb.add(Conv2D(filters=32, kernel_size=(3, 3, 3), activation='relu',\\\n\u001b[1;32m----> 4\u001b[1;33m                  input_shape=(50, 50, 3)))\n\u001b[0m\u001b[0;32m      5\u001b[0m \u001b[0mmodel_rgb\u001b[0m\u001b[1;33m.\u001b[0m\u001b[0madd\u001b[0m\u001b[1;33m(\u001b[0m\u001b[0mConv2D\u001b[0m\u001b[1;33m(\u001b[0m\u001b[0mfilters\u001b[0m\u001b[1;33m=\u001b[0m\u001b[1;36m64\u001b[0m\u001b[1;33m,\u001b[0m \u001b[0mkernel_size\u001b[0m\u001b[1;33m=\u001b[0m\u001b[1;33m(\u001b[0m\u001b[1;36m3\u001b[0m\u001b[1;33m,\u001b[0m \u001b[1;36m3\u001b[0m\u001b[1;33m,\u001b[0m \u001b[1;36m3\u001b[0m\u001b[1;33m)\u001b[0m\u001b[1;33m,\u001b[0m \u001b[0mactivation\u001b[0m\u001b[1;33m=\u001b[0m\u001b[1;34m'relu'\u001b[0m\u001b[1;33m)\u001b[0m\u001b[1;33m)\u001b[0m\u001b[1;33m\u001b[0m\u001b[1;33m\u001b[0m\u001b[0m\n\u001b[0;32m      6\u001b[0m \u001b[0mmodel_rgb\u001b[0m\u001b[1;33m.\u001b[0m\u001b[0madd\u001b[0m\u001b[1;33m(\u001b[0m\u001b[0mMaxPooling2D\u001b[0m\u001b[1;33m(\u001b[0m\u001b[0mpool_size\u001b[0m\u001b[1;33m=\u001b[0m\u001b[1;33m(\u001b[0m\u001b[1;36m2\u001b[0m\u001b[1;33m,\u001b[0m \u001b[1;36m2\u001b[0m\u001b[1;33m)\u001b[0m\u001b[1;33m)\u001b[0m\u001b[1;33m)\u001b[0m\u001b[1;33m\u001b[0m\u001b[1;33m\u001b[0m\u001b[0m\n",
      "\u001b[1;32mC:\\ProgramData\\Anaconda3\\lib\\site-packages\\keras\\legacy\\interfaces.py\u001b[0m in \u001b[0;36mwrapper\u001b[1;34m(*args, **kwargs)\u001b[0m\n\u001b[0;32m     89\u001b[0m                 warnings.warn('Update your `' + object_name + '` call to the ' +\n\u001b[0;32m     90\u001b[0m                               'Keras 2 API: ' + signature, stacklevel=2)\n\u001b[1;32m---> 91\u001b[1;33m             \u001b[1;32mreturn\u001b[0m \u001b[0mfunc\u001b[0m\u001b[1;33m(\u001b[0m\u001b[1;33m*\u001b[0m\u001b[0margs\u001b[0m\u001b[1;33m,\u001b[0m \u001b[1;33m**\u001b[0m\u001b[0mkwargs\u001b[0m\u001b[1;33m)\u001b[0m\u001b[1;33m\u001b[0m\u001b[1;33m\u001b[0m\u001b[0m\n\u001b[0m\u001b[0;32m     92\u001b[0m         \u001b[0mwrapper\u001b[0m\u001b[1;33m.\u001b[0m\u001b[0m_original_function\u001b[0m \u001b[1;33m=\u001b[0m \u001b[0mfunc\u001b[0m\u001b[1;33m\u001b[0m\u001b[1;33m\u001b[0m\u001b[0m\n\u001b[0;32m     93\u001b[0m         \u001b[1;32mreturn\u001b[0m \u001b[0mwrapper\u001b[0m\u001b[1;33m\u001b[0m\u001b[1;33m\u001b[0m\u001b[0m\n",
      "\u001b[1;32mC:\\ProgramData\\Anaconda3\\lib\\site-packages\\keras\\layers\\convolutional.py\u001b[0m in \u001b[0;36m__init__\u001b[1;34m(self, filters, kernel_size, strides, padding, data_format, dilation_rate, activation, use_bias, kernel_initializer, bias_initializer, kernel_regularizer, bias_regularizer, activity_regularizer, kernel_constraint, bias_constraint, **kwargs)\u001b[0m\n\u001b[0;32m    488\u001b[0m             \u001b[0mkernel_constraint\u001b[0m\u001b[1;33m=\u001b[0m\u001b[0mkernel_constraint\u001b[0m\u001b[1;33m,\u001b[0m\u001b[1;33m\u001b[0m\u001b[1;33m\u001b[0m\u001b[0m\n\u001b[0;32m    489\u001b[0m             \u001b[0mbias_constraint\u001b[0m\u001b[1;33m=\u001b[0m\u001b[0mbias_constraint\u001b[0m\u001b[1;33m,\u001b[0m\u001b[1;33m\u001b[0m\u001b[1;33m\u001b[0m\u001b[0m\n\u001b[1;32m--> 490\u001b[1;33m             **kwargs)\n\u001b[0m\u001b[0;32m    491\u001b[0m \u001b[1;33m\u001b[0m\u001b[0m\n\u001b[0;32m    492\u001b[0m     \u001b[1;32mdef\u001b[0m \u001b[0mget_config\u001b[0m\u001b[1;33m(\u001b[0m\u001b[0mself\u001b[0m\u001b[1;33m)\u001b[0m\u001b[1;33m:\u001b[0m\u001b[1;33m\u001b[0m\u001b[1;33m\u001b[0m\u001b[0m\n",
      "\u001b[1;32mC:\\ProgramData\\Anaconda3\\lib\\site-packages\\keras\\layers\\convolutional.py\u001b[0m in \u001b[0;36m__init__\u001b[1;34m(self, rank, filters, kernel_size, strides, padding, data_format, dilation_rate, activation, use_bias, kernel_initializer, bias_initializer, kernel_regularizer, bias_regularizer, activity_regularizer, kernel_constraint, bias_constraint, **kwargs)\u001b[0m\n\u001b[0;32m    107\u001b[0m         \u001b[0mself\u001b[0m\u001b[1;33m.\u001b[0m\u001b[0mfilters\u001b[0m \u001b[1;33m=\u001b[0m \u001b[0mfilters\u001b[0m\u001b[1;33m\u001b[0m\u001b[1;33m\u001b[0m\u001b[0m\n\u001b[0;32m    108\u001b[0m         self.kernel_size = conv_utils.normalize_tuple(kernel_size, rank,\n\u001b[1;32m--> 109\u001b[1;33m                                                       'kernel_size')\n\u001b[0m\u001b[0;32m    110\u001b[0m         \u001b[0mself\u001b[0m\u001b[1;33m.\u001b[0m\u001b[0mstrides\u001b[0m \u001b[1;33m=\u001b[0m \u001b[0mconv_utils\u001b[0m\u001b[1;33m.\u001b[0m\u001b[0mnormalize_tuple\u001b[0m\u001b[1;33m(\u001b[0m\u001b[0mstrides\u001b[0m\u001b[1;33m,\u001b[0m \u001b[0mrank\u001b[0m\u001b[1;33m,\u001b[0m \u001b[1;34m'strides'\u001b[0m\u001b[1;33m)\u001b[0m\u001b[1;33m\u001b[0m\u001b[1;33m\u001b[0m\u001b[0m\n\u001b[0;32m    111\u001b[0m         \u001b[0mself\u001b[0m\u001b[1;33m.\u001b[0m\u001b[0mpadding\u001b[0m \u001b[1;33m=\u001b[0m \u001b[0mconv_utils\u001b[0m\u001b[1;33m.\u001b[0m\u001b[0mnormalize_padding\u001b[0m\u001b[1;33m(\u001b[0m\u001b[0mpadding\u001b[0m\u001b[1;33m)\u001b[0m\u001b[1;33m\u001b[0m\u001b[1;33m\u001b[0m\u001b[0m\n",
      "\u001b[1;32mC:\\ProgramData\\Anaconda3\\lib\\site-packages\\keras\\utils\\conv_utils.py\u001b[0m in \u001b[0;36mnormalize_tuple\u001b[1;34m(value, n, name)\u001b[0m\n\u001b[0;32m     37\u001b[0m         \u001b[1;32mif\u001b[0m \u001b[0mlen\u001b[0m\u001b[1;33m(\u001b[0m\u001b[0mvalue_tuple\u001b[0m\u001b[1;33m)\u001b[0m \u001b[1;33m!=\u001b[0m \u001b[0mn\u001b[0m\u001b[1;33m:\u001b[0m\u001b[1;33m\u001b[0m\u001b[1;33m\u001b[0m\u001b[0m\n\u001b[0;32m     38\u001b[0m             raise ValueError('The `' + name + '` argument must be a tuple of ' +\n\u001b[1;32m---> 39\u001b[1;33m                              str(n) + ' integers. Received: ' + str(value))\n\u001b[0m\u001b[0;32m     40\u001b[0m         \u001b[1;32mfor\u001b[0m \u001b[0msingle_value\u001b[0m \u001b[1;32min\u001b[0m \u001b[0mvalue_tuple\u001b[0m\u001b[1;33m:\u001b[0m\u001b[1;33m\u001b[0m\u001b[1;33m\u001b[0m\u001b[0m\n\u001b[0;32m     41\u001b[0m             \u001b[1;32mtry\u001b[0m\u001b[1;33m:\u001b[0m\u001b[1;33m\u001b[0m\u001b[1;33m\u001b[0m\u001b[0m\n",
      "\u001b[1;31mValueError\u001b[0m: The `kernel_size` argument must be a tuple of 2 integers. Received: (3, 3, 3)"
     ]
    }
   ],
   "source": [
    "model_rgb = Sequential()\n",
    "\n",
    "model_rgb.add(Conv2D(filters=32, kernel_size=(3, 3), activation='relu',\\\n",
    "                 input_shape=(50, 50, 3)))\n",
    "model_rgb.add(Conv2D(filters=64, kernel_size=(3, 3), activation='relu'))\n",
    "model_rgb.add(MaxPooling2D(pool_size=(2, 2)))\n",
    "\n",
    "model_rgb.add(Flatten())\n",
    "\n",
    "model_rgb.add(Dense(units=128, activation='relu'))\n",
    "model_rgb.add(Dropout(0.2))\n",
    "model_rgb.add(Dense(units=3, activation='softmax'))"
   ]
  },
  {
   "cell_type": "code",
   "execution_count": 54,
   "metadata": {},
   "outputs": [],
   "source": [
    "model_gray = Sequential()\n",
    "\n",
    "model_gray.add(Conv2D(filters=32, kernel_size=(3, 3), activation='relu',\\\n",
    "                 input_shape=(50, 50, 1)))\n",
    "model_gray.add(Conv2D(filters=64, kernel_size=(3, 3), activation='relu'))\n",
    "model_gray.add(MaxPooling2D(pool_size=(2, 2)))\n",
    "\n",
    "model_gray.add(Flatten())\n",
    "\n",
    "model_gray.add(Dense(units=128, activation='relu'))\n",
    "model_gray.add(Dropout(0.2))\n",
    "model_gray.add(Dense(units=3, activation='softmax'))"
   ]
  },
  {
   "cell_type": "markdown",
   "metadata": {},
   "source": [
    "# 04"
   ]
  },
  {
   "cell_type": "code",
   "execution_count": 16,
   "metadata": {},
   "outputs": [],
   "source": [
    "# 1. Relu 활성함수\n",
    "# - Rectified Linear Unit\n",
    "# - 입력값 < 0이면 0, 입력값 > 0이면 입력값을 그대로(linear) 출력.\n",
    "# - 기존 활성함수로 많이 사용되던 sigmoid가 가진 문제 Gradient Vanishing을 해결하며 등장한 활성함수.\n",
    "#     *Gradient Vanishing: 뉴럴 네트워크에서, 신경망이 깊어질수록 학습이 어려워지는 문제가 있어, 이를 해결하기 위해 전체 레이어를 한 번 계산한 후, 그 값을 역으로 다시 계산하는 Back Propagation을 사용한다.\n",
    "#                          그런데 sigmoid 함수를 사용할 경우, 레이어가 깊어질수록 Back Propagation이 제대로 작동하지 않는 현상(값을 뒤에서 앞으로 전달할 때 희석이 되는 현상)이 발생했고, 이 현상을 Gradient Vanishing 이라고 한다.\n",
    "# - 2가지 이상의 레이블 분류하는 경우 주로 사용!(sigmoid는 Gradient Vanishing 때문에 잘 사용 X)\n",
    "# 뉴럴 네트워크의 은닉층 활성화 함수로 주로 사용.\n",
    "\n",
    "# 2. softmax 활성함수\n",
    "# - sigmoid(or Relu) 함수가 이산 분류(결과값에 따라 참 또는 거짓을 나타내는) 함수라면, softmax 함수는 여러 레이블 분류에 대한 확률 값을 출력할 수 있는 함수이다. 분류의 수 n에 대해, P(1) + P(2) + ... + P(n) = 1을 가지는 Pn값을 출력한다.\n",
    "# - 3가지 이상의 레이블 분류하는 경우 주로 사용!\n",
    "# - 뉴럴 네트워크 가장 마지막 부분에 주로 사용!(결과를 확률값을로 해석하기 위해)"
   ]
  },
  {
   "cell_type": "markdown",
   "metadata": {},
   "source": [
    "# 05"
   ]
  },
  {
   "cell_type": "code",
   "execution_count": 55,
   "metadata": {},
   "outputs": [],
   "source": [
    "model_rgb.compile(loss = 'categorical_crossentropy', optimizer = 'adam', metrics = ['accuracy'])\n",
    "model_gray.compile(loss = 'categorical_crossentropy', optimizer = 'adam', metrics = ['accuracy'])\n",
    "\n",
    "# 1. loss\n",
    "# - 현재 모델의 가중치 세트를 평가하는 데 사용하는 손실 함수(cost function).\n",
    "# - 현재 3가지 이상의 레이블을 분류하는 다중 클래스 문제이므로 'categorical_crossentrpy' 사용.\n",
    "\n",
    "# 2. optimizer\n",
    "# - 모델의 최적의 가중치(weight parameter)를 탐색하는 데 사용되는 최적화 알고리즘.\n",
    "# - 최적을 값을 찾아가는 데 '방향성', '스탭사이즈' 모두를 고려하는 효율적인 Gradient Descent Optimizer 'adam' 사용."
   ]
  },
  {
   "cell_type": "markdown",
   "metadata": {},
   "source": [
    "# 06"
   ]
  },
  {
   "cell_type": "code",
   "execution_count": 56,
   "metadata": {
    "scrolled": true
   },
   "outputs": [
    {
     "name": "stdout",
     "output_type": "stream",
     "text": [
      "Epoch 1/15\n",
      "379/379 [==============================] - 93s 245ms/step - loss: 0.6453 - acc: 0.7360 - val_loss: 0.4820 - val_acc: 0.8100\n",
      "Epoch 2/15\n",
      "379/379 [==============================] - 94s 247ms/step - loss: 0.5149 - acc: 0.7960 - val_loss: 0.4789 - val_acc: 0.8267\n",
      "Epoch 3/15\n",
      "379/379 [==============================] - 102s 268ms/step - loss: 0.4430 - acc: 0.8234 - val_loss: 0.3930 - val_acc: 0.8433\n",
      "Epoch 4/15\n",
      "379/379 [==============================] - 94s 247ms/step - loss: 0.3809 - acc: 0.8478 - val_loss: 0.4295 - val_acc: 0.8383\n",
      "Epoch 5/15\n",
      "379/379 [==============================] - 90s 237ms/step - loss: 0.3146 - acc: 0.8769 - val_loss: 0.4211 - val_acc: 0.8450\n",
      "Epoch 6/15\n",
      "379/379 [==============================] - 108s 285ms/step - loss: 0.2563 - acc: 0.8999 - val_loss: 0.4987 - val_acc: 0.8250\n",
      "Epoch 7/15\n",
      "379/379 [==============================] - 99s 262ms/step - loss: 0.1943 - acc: 0.9258 - val_loss: 0.5480 - val_acc: 0.8317\n",
      "Epoch 8/15\n",
      "379/379 [==============================] - 101s 267ms/step - loss: 0.1372 - acc: 0.9507 - val_loss: 0.6156 - val_acc: 0.8233\n",
      "Epoch 9/15\n",
      "379/379 [==============================] - 100s 263ms/step - loss: 0.0996 - acc: 0.9654 - val_loss: 0.7361 - val_acc: 0.8283\n",
      "Epoch 10/15\n",
      "379/379 [==============================] - 100s 264ms/step - loss: 0.0684 - acc: 0.9757 - val_loss: 0.8888 - val_acc: 0.7933\n",
      "Epoch 11/15\n",
      "379/379 [==============================] - 95s 251ms/step - loss: 0.0650 - acc: 0.9772 - val_loss: 1.0479 - val_acc: 0.7900\n",
      "Epoch 12/15\n",
      "379/379 [==============================] - 97s 255ms/step - loss: 0.0446 - acc: 0.9858 - val_loss: 0.9371 - val_acc: 0.8133\n",
      "Epoch 13/15\n",
      "379/379 [==============================] - 95s 251ms/step - loss: 0.0488 - acc: 0.9837 - val_loss: 0.9290 - val_acc: 0.8017\n",
      "Epoch 14/15\n",
      "379/379 [==============================] - 93s 245ms/step - loss: 0.0301 - acc: 0.9905 - val_loss: 0.8936 - val_acc: 0.8183\n",
      "Epoch 15/15\n",
      "379/379 [==============================] - 91s 240ms/step - loss: 0.0317 - acc: 0.9901 - val_loss: 1.1138 - val_acc: 0.7817\n"
     ]
    }
   ],
   "source": [
    "hist_rgb = model_rgb.fit_generator(train_generator_rgb, steps_per_epoch=379, epochs=15, validation_data=val_generator_rgb, validation_steps=200)"
   ]
  },
  {
   "cell_type": "code",
   "execution_count": 60,
   "metadata": {
    "scrolled": true
   },
   "outputs": [
    {
     "name": "stdout",
     "output_type": "stream",
     "text": [
      "Epoch 1/15\n",
      "379/379 [==============================] - 95s 251ms/step - loss: 0.7171 - acc: 0.6874 - val_loss: 0.5647 - val_acc: 0.7867\n",
      "Epoch 2/15\n",
      "379/379 [==============================] - 89s 234ms/step - loss: 0.5720 - acc: 0.7710 - val_loss: 0.4818 - val_acc: 0.8100\n",
      "Epoch 3/15\n",
      "379/379 [==============================] - 89s 234ms/step - loss: 0.5304 - acc: 0.7876 - val_loss: 0.4515 - val_acc: 0.8233\n",
      "Epoch 4/15\n",
      "379/379 [==============================] - 89s 235ms/step - loss: 0.4671 - acc: 0.8115 - val_loss: 0.5056 - val_acc: 0.7933\n",
      "Epoch 5/15\n",
      "379/379 [==============================] - 91s 241ms/step - loss: 0.4255 - acc: 0.8265 - val_loss: 0.4777 - val_acc: 0.8333\n",
      "Epoch 6/15\n",
      "379/379 [==============================] - 93s 244ms/step - loss: 0.3751 - acc: 0.8537 - val_loss: 0.5328 - val_acc: 0.8150\n",
      "Epoch 7/15\n",
      "379/379 [==============================] - 102s 268ms/step - loss: 0.3242 - acc: 0.8724 - val_loss: 0.5619 - val_acc: 0.8117\n",
      "Epoch 8/15\n",
      "379/379 [==============================] - 110s 290ms/step - loss: 0.2807 - acc: 0.8881 - val_loss: 0.5605 - val_acc: 0.8183\n",
      "Epoch 9/15\n",
      "379/379 [==============================] - 114s 300ms/step - loss: 0.2377 - acc: 0.9077 - val_loss: 0.6065 - val_acc: 0.8183\n",
      "Epoch 10/15\n",
      "379/379 [==============================] - 109s 287ms/step - loss: 0.2034 - acc: 0.9197 - val_loss: 0.7824 - val_acc: 0.7850\n",
      "Epoch 11/15\n",
      "379/379 [==============================] - 111s 293ms/step - loss: 0.1719 - acc: 0.9362 - val_loss: 0.6702 - val_acc: 0.8133\n",
      "Epoch 12/15\n",
      "379/379 [==============================] - 107s 281ms/step - loss: 0.1331 - acc: 0.9512 - val_loss: 0.8831 - val_acc: 0.7800\n",
      "Epoch 13/15\n",
      "379/379 [==============================] - 101s 266ms/step - loss: 0.1109 - acc: 0.9617 - val_loss: 0.8585 - val_acc: 0.7850\n",
      "Epoch 14/15\n",
      "379/379 [==============================] - 91s 240ms/step - loss: 0.0993 - acc: 0.9647 - val_loss: 0.9439 - val_acc: 0.7983\n",
      "Epoch 15/15\n",
      "379/379 [==============================] - 95s 252ms/step - loss: 0.0783 - acc: 0.9731 - val_loss: 0.9569 - val_acc: 0.8000\n"
     ]
    }
   ],
   "source": [
    "hist_gray = model_gray.fit_generator(train_generator_gray, steps_per_epoch=379, epochs=15, validation_data=val_generator_gray, validation_steps=200)"
   ]
  },
  {
   "cell_type": "code",
   "execution_count": 65,
   "metadata": {},
   "outputs": [
    {
     "name": "stdout",
     "output_type": "stream",
     "text": [
      "--Evaluate--\n",
      "rgb\n",
      "acc: 80.50%\n",
      "------------\n",
      "gray\n",
      "acc: 78.67%\n"
     ]
    }
   ],
   "source": [
    "print(\"--Evaluate--\")\n",
    "print(\"rgb\")\n",
    "scores_rgb = model_rgb.evaluate_generator(test_generator_rgb, steps=600)\n",
    "print(\"%s: %.2f%%\" %(model_rgb.metrics_names[1], scores_rgb[1]*100))\n",
    "print(\"------------\")\n",
    "print(\"gray\")\n",
    "scores_gray = model_gray.evaluate_generator(test_generator_gray, steps=600)\n",
    "print(\"%s: %.2f%%\" %(model_gray.metrics_names[1], scores_gray[1]*100))"
   ]
  },
  {
   "cell_type": "code",
   "execution_count": 43,
   "metadata": {},
   "outputs": [],
   "source": [
    "# A: fit_generator\n",
    "# B: 9(# of traning data / batch size => 10,233 / 1137)\n",
    "    # * 트레이닝 데이터 셋 크기에 비해 기존 배치 사이즈(3)가 너무 작아, steps 수가 지나치게 커짐 => 시간 너무 오래 걸림, overfitting 문제 확인 => 배치 사이즈 수정(3 -> 1137)\n",
    "# C: 200(# of validation data / batch size => 600 / 3)\n",
    "# D: evaluate_generator\n",
    "# E: 200(# of test data / batch size => 600 / 3)"
   ]
  },
  {
   "cell_type": "markdown",
   "metadata": {},
   "source": [
    "# 07"
   ]
  },
  {
   "cell_type": "code",
   "execution_count": 45,
   "metadata": {},
   "outputs": [],
   "source": [
    "# 은하를 Edge / Smooth / Spiral 세 종류로 분류하는 것은, 오로지 각 은하의 '형태'를 기준으로 한다.\n",
    "# 따라서, 은하 분류 모델을 학습시킬 때 은하 사진의 RGB data를 사용할 필요가 없다.(Grayscale data 사용!)\n",
    "# input data의 불필요한 feature를 줄이면서, over fitting 문제를 어느 정도 예방할 수 있기 때문에, \n",
    "# 같은 조건일 때 Grayscale 활용한 모델이 더 정확도가 높을 것이다.\n",
    "\n",
    "# 개념적으로는 이렇게 생각해봤는데...\n",
    "# RGB data 사용한 모델과 Grayscale data 사용한 모델의 정확도가 크게 차이가 나질 않아서 맞는 건지는 잘 모르겠습니다 ㅠ_ㅠ\n",
    "\n",
    "# 다만 over fitting 문제를 해결하기 위해 epochs을 적정 수준으로 낮추고, Dropout layer을 추가했습니다."
   ]
  },
  {
   "cell_type": "code",
   "execution_count": 66,
   "metadata": {},
   "outputs": [],
   "source": [
    "# +++\n",
    "# 같은 조건일 때, RGB data 사용 모델과 Grayscale data 사용 모델 간 정확도(val_acc)가 유의미한 차이를 보이는 것 같지 않습니다...\n",
    "# 아래 그래프만 보면 RGB 모델의 정확도가 좀 더 높아보이지만, 이것도 돌릴 때마다 값이 달라져서 유의미한 것 같진 않습니다.\n",
    "\n",
    "# 모델 세팅 설정을 잘못하고 있는 건지는 모르겠지만...\n",
    "# 결과가 이렇게 나오니 RGB냐 Grayscale이냐가 크리티컬한 변수인가...싶은 생각이 드네요. 어렵네요 ㅠ_ㅠ"
   ]
  },
  {
   "cell_type": "code",
   "execution_count": 61,
   "metadata": {},
   "outputs": [
    {
     "name": "stderr",
     "output_type": "stream",
     "text": [
      "W1020 18:33:59.077327 17316 legend.py:1289] No handles with labels found to put in legend.\n"
     ]
    },
    {
     "data": {
      "image/png": "[encoded data removed]",
      "text/plain": [
       "<Figure size 432x288 with 2 Axes>"
      ]
     },
     "metadata": {
      "needs_background": "light"
     },
     "output_type": "display_data"
    }
   ],
   "source": [
    "%matplotlib inline\n",
    "import matplotlib.pyplot as plt\n",
    "\n",
    "fig, loss_ax = plt.subplots()\n",
    "\n",
    "acc_ax = loss_ax.twinx()\n",
    "\n",
    "#loss_ax.plot(hist_rgb.history['loss'], 'g', linestyle = '--', label='train loss(rgb)')\n",
    "#loss_ax.plot(hist_rgb.history['val_loss'], 'g', label='val loss(rgb)')\n",
    "#loss_ax.plot(hist_gray.history['loss'], 'y', linestyle = '--', label='train loss(gray)')\n",
    "#loss_ax.plot(hist_gray.history['val_loss'], 'y', label='val loss(gray)')\n",
    "\n",
    "acc_ax.plot(hist_rgb.history['acc'], 'b', linestyle = '--', label='train acc(rgb)')\n",
    "acc_ax.plot(hist_rgb.history['val_acc'], 'b', label='val acc(rgb)')\n",
    "acc_ax.plot(hist_gray.history['acc'], 'r', linestyle = '--', label='train acc(gray)')\n",
    "acc_ax.plot(hist_gray.history['val_acc'], 'r', label='val acc(gray)')\n",
    "\n",
    "loss_ax.set_xlabel('epoch')\n",
    "loss_ax.set_ylabel('loss')\n",
    "acc_ax.set_ylabel('accuray')\n",
    "\n",
    "loss_ax.legend(loc='upper left')\n",
    "acc_ax.legend(loc='lower left')\n",
    "\n",
    "plt.show()"
   ]
  },
  {
   "cell_type": "code",
   "execution_count": 64,
   "metadata": {},
   "outputs": [
    {
     "name": "stderr",
     "output_type": "stream",
     "text": [
      "W1020 18:34:45.284825 17316 legend.py:1289] No handles with labels found to put in legend.\n"
     ]
    },
    {
     "data": {
      "image/png": "[encoded data removed]",
      "text/plain": [
       "<Figure size 432x288 with 2 Axes>"
      ]
     },
     "metadata": {
      "needs_background": "light"
     },
     "output_type": "display_data"
    }
   ],
   "source": [
    "%matplotlib inline\n",
    "import matplotlib.pyplot as plt\n",
    "\n",
    "fig, loss_ax = plt.subplots()\n",
    "\n",
    "acc_ax = loss_ax.twinx()\n",
    "\n",
    "loss_ax.plot(hist_rgb.history['loss'], 'g', linestyle = '--', label='train loss(rgb)')\n",
    "loss_ax.plot(hist_rgb.history['val_loss'], 'g', label='val loss(rgb)')\n",
    "loss_ax.plot(hist_gray.history['loss'], 'orange', linestyle = '--', label='train loss(gray)')\n",
    "loss_ax.plot(hist_gray.history['val_loss'], 'orange', label='val loss(gray)')\n",
    "\n",
    "#acc_ax.plot(hist_rgb.history['acc'], 'b', linestyle = '--', label='train acc(rgb)')\n",
    "#acc_ax.plot(hist_rgb.history['val_acc'], 'b', label='val acc(rgb)')\n",
    "#acc_ax.plot(hist_gray.history['acc'], 'r', linestyle = '--', label='train acc(gray)')\n",
    "#acc_ax.plot(hist_gray.history['val_acc'], 'r', label='val acc(gray)')\n",
    "\n",
    "loss_ax.set_xlabel('epoch')\n",
    "loss_ax.set_ylabel('loss')\n",
    "acc_ax.set_ylabel('accuray')\n",
    "\n",
    "loss_ax.legend(loc='upper left')\n",
    "acc_ax.legend(loc='lower left')\n",
    "\n",
    "plt.show()"
   ]
  }
 ],
 "metadata": {
  "kernelspec": {
   "display_name": "Python 3",
   "language": "python",
   "name": "python3"
  },
  "language_info": {
   "codemirror_mode": {
    "name": "ipython",
    "version": 3
   },
   "file_extension": ".py",
   "mimetype": "text/x-python",
   "name": "python",
   "nbconvert_exporter": "python",
   "pygments_lexer": "ipython3",
   "version": "3.7.3"
  }
 },
 "nbformat": 4,
 "nbformat_minor": 2
}
